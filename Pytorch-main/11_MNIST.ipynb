{
 "cells": [
  {
   "cell_type": "code",
   "execution_count": 1,
   "id": "905a605f",
   "metadata": {},
   "outputs": [],
   "source": [
    "import torch\n",
    "import torch.nn as nn\n",
    "import torchvision\n",
    "import torchvision.transforms as transforms\n",
    "import matplotlib.pyplot as plt"
   ]
  },
  {
   "cell_type": "code",
   "execution_count": 2,
   "id": "1d063bc2",
   "metadata": {},
   "outputs": [],
   "source": [
    "device = torch.device('cuda' if torch.cuda.is_available() else 'cpu')"
   ]
  },
  {
   "cell_type": "code",
   "execution_count": 3,
   "id": "ffa249c9",
   "metadata": {},
   "outputs": [
    {
     "data": {
      "text/plain": [
       "device(type='cuda')"
      ]
     },
     "execution_count": 3,
     "metadata": {},
     "output_type": "execute_result"
    }
   ],
   "source": [
    "device"
   ]
  },
  {
   "cell_type": "code",
   "execution_count": 4,
   "id": "f4d5f605",
   "metadata": {},
   "outputs": [],
   "source": [
    "#hyperparameters"
   ]
  },
  {
   "cell_type": "code",
   "execution_count": 5,
   "id": "4ab5d057",
   "metadata": {},
   "outputs": [],
   "source": [
    "input_size = 784\n",
    "hidden_size = 100\n",
    "num_classes = 10\n",
    "num_epochs = 20\n",
    "batch_size = 100\n",
    "learning_rate = 0.001"
   ]
  },
  {
   "cell_type": "code",
   "execution_count": 6,
   "id": "1df122d2",
   "metadata": {},
   "outputs": [
    {
     "name": "stderr",
     "output_type": "stream",
     "text": [
      "/home/aarav/anaconda3/envs/pract/lib/python3.6/site-packages/torchvision/datasets/mnist.py:498: UserWarning: The given NumPy array is not writeable, and PyTorch does not support non-writeable tensors. This means you can write to the underlying (supposedly non-writeable) NumPy array using the tensor. You may want to copy the array to protect its data or make it writeable before converting it to a tensor. This type of warning will be suppressed for the rest of this program. (Triggered internally at  /pytorch/torch/csrc/utils/tensor_numpy.cpp:180.)\n",
      "  return torch.from_numpy(parsed.astype(m[2], copy=False)).view(*s)\n"
     ]
    }
   ],
   "source": [
    "train_dataset = torchvision.datasets.MNIST(root='data',train = True,\n",
    "                                          transform = transforms.ToTensor(),\n",
    "                                          download = True)"
   ]
  },
  {
   "cell_type": "code",
   "execution_count": 7,
   "id": "e90222b8",
   "metadata": {},
   "outputs": [],
   "source": [
    "test_dataset = torchvision.datasets.MNIST(root='data',train=False,\n",
    "                                         transform = transforms.ToTensor(),\n",
    "                                         download = True)"
   ]
  },
  {
   "cell_type": "code",
   "execution_count": 8,
   "id": "52715a0d",
   "metadata": {},
   "outputs": [
    {
     "data": {
      "text/plain": [
       "Dataset MNIST\n",
       "    Number of datapoints: 60000\n",
       "    Root location: data\n",
       "    Split: Train\n",
       "    StandardTransform\n",
       "Transform: ToTensor()"
      ]
     },
     "execution_count": 8,
     "metadata": {},
     "output_type": "execute_result"
    }
   ],
   "source": [
    "train_dataset"
   ]
  },
  {
   "cell_type": "code",
   "execution_count": 9,
   "id": "299b436b",
   "metadata": {},
   "outputs": [
    {
     "data": {
      "text/plain": [
       "Dataset MNIST\n",
       "    Number of datapoints: 10000\n",
       "    Root location: data\n",
       "    Split: Test\n",
       "    StandardTransform\n",
       "Transform: ToTensor()"
      ]
     },
     "execution_count": 9,
     "metadata": {},
     "output_type": "execute_result"
    }
   ],
   "source": [
    "test_dataset"
   ]
  },
  {
   "cell_type": "code",
   "execution_count": 10,
   "id": "c20cc524",
   "metadata": {},
   "outputs": [],
   "source": [
    "train_loader = torch.utils.data.DataLoader(dataset = train_dataset,\n",
    "                                          batch_size = batch_size,\n",
    "                                          shuffle= True)"
   ]
  },
  {
   "cell_type": "code",
   "execution_count": 11,
   "id": "db116f2b",
   "metadata": {},
   "outputs": [],
   "source": [
    "test_loader = torch.utils.data.DataLoader(dataset = test_dataset,\n",
    "                                         batch_size = batch_size,\n",
    "                                         shuffle = False)"
   ]
  },
  {
   "cell_type": "code",
   "execution_count": 12,
   "id": "d13a4cb2",
   "metadata": {},
   "outputs": [],
   "source": [
    "examples = iter(train_loader)"
   ]
  },
  {
   "cell_type": "code",
   "execution_count": 13,
   "id": "94e96b5d",
   "metadata": {},
   "outputs": [],
   "source": [
    "samples ,labels = examples.next()"
   ]
  },
  {
   "cell_type": "code",
   "execution_count": 14,
   "id": "bec97b89",
   "metadata": {},
   "outputs": [
    {
     "data": {
      "text/plain": [
       "torch.Size([100, 1, 28, 28])"
      ]
     },
     "execution_count": 14,
     "metadata": {},
     "output_type": "execute_result"
    }
   ],
   "source": [
    "samples.shape"
   ]
  },
  {
   "cell_type": "code",
   "execution_count": 15,
   "id": "8f9dc577",
   "metadata": {},
   "outputs": [
    {
     "data": {
      "text/plain": [
       "torch.Size([100])"
      ]
     },
     "execution_count": 15,
     "metadata": {},
     "output_type": "execute_result"
    }
   ],
   "source": [
    "labels.shape"
   ]
  },
  {
   "cell_type": "code",
   "execution_count": 16,
   "id": "ec5331db",
   "metadata": {},
   "outputs": [
    {
     "data": {
      "image/png": "[encoded data removed]",
      "text/plain": [
       "<Figure size 432x288 with 6 Axes>"
      ]
     },
     "metadata": {},
     "output_type": "display_data"
    }
   ],
   "source": [
    "import matplotlib.pyplot as plt\n",
    "import seaborn as sns\n",
    "sns.set_style('whitegrid')\n",
    "for i in range(6):\n",
    "    plt.subplot(2,3,i+1)\n",
    "    plt.xticks([])\n",
    "    plt.yticks([])\n",
    "    plt.grid(False)\n",
    "    plt.imshow(samples[i][0],cmap='gray_r')\n",
    "plt.show()"
   ]
  },
  {
   "cell_type": "code",
   "execution_count": 17,
   "id": "892acb1b",
   "metadata": {},
   "outputs": [],
   "source": [
    "class NeuralNet(nn.Module):\n",
    "    def __init__(self,input_size,hidden_size,num_classes):\n",
    "        super(NeuralNet,self).__init__()\n",
    "        self.l1 = nn.Linear(input_size,hidden_size)\n",
    "        self.relu = nn.ReLU()\n",
    "        self.l2 = nn.Linear(hidden_size,num_classes)\n",
    "    def forward(self,x):\n",
    "        out = self.l1(x)\n",
    "        out = self.relu(out)\n",
    "        out = self.l2(out)\n",
    "        return out"
   ]
  },
  {
   "cell_type": "code",
   "execution_count": 18,
   "id": "f6253ef4",
   "metadata": {},
   "outputs": [],
   "source": [
    "model = NeuralNet(input_size,hidden_size,num_classes).to(device)"
   ]
  },
  {
   "cell_type": "code",
   "execution_count": 19,
   "id": "7ecb9bdd",
   "metadata": {},
   "outputs": [
    {
     "name": "stdout",
     "output_type": "stream",
     "text": [
      "NeuralNet(\n",
      "  (l1): Linear(in_features=784, out_features=100, bias=True)\n",
      "  (relu): ReLU()\n",
      "  (l2): Linear(in_features=100, out_features=10, bias=True)\n",
      ")\n"
     ]
    }
   ],
   "source": [
    "print(model)"
   ]
  },
  {
   "cell_type": "code",
   "execution_count": 20,
   "id": "414f4778",
   "metadata": {},
   "outputs": [],
   "source": [
    "#loss func^ & optimizer\n",
    "criterion = nn.CrossEntropyLoss()\n",
    "optimizer = torch.optim.Adam(model.parameters(),lr=learning_rate)\n"
   ]
  },
  {
   "cell_type": "code",
   "execution_count": 21,
   "id": "2cfbd231",
   "metadata": {},
   "outputs": [
    {
     "name": "stdout",
     "output_type": "stream",
     "text": [
      "epoch 1/20, step 100/600,loss = 0.4868\n",
      "epoch 1/20, step 200/600,loss = 0.2395\n",
      "epoch 1/20, step 300/600,loss = 0.4358\n",
      "epoch 1/20, step 400/600,loss = 0.2317\n",
      "epoch 1/20, step 500/600,loss = 0.1894\n",
      "epoch 1/20, step 600/600,loss = 0.3975\n",
      "epoch 2/20, step 100/600,loss = 0.2852\n",
      "epoch 2/20, step 200/600,loss = 0.1905\n",
      "epoch 2/20, step 300/600,loss = 0.1997\n",
      "epoch 2/20, step 400/600,loss = 0.2918\n",
      "epoch 2/20, step 500/600,loss = 0.2603\n",
      "epoch 2/20, step 600/600,loss = 0.2387\n",
      "epoch 3/20, step 100/600,loss = 0.1352\n",
      "epoch 3/20, step 200/600,loss = 0.1576\n",
      "epoch 3/20, step 300/600,loss = 0.0898\n",
      "epoch 3/20, step 400/600,loss = 0.1905\n",
      "epoch 3/20, step 500/600,loss = 0.1387\n",
      "epoch 3/20, step 600/600,loss = 0.1605\n",
      "epoch 4/20, step 100/600,loss = 0.0743\n",
      "epoch 4/20, step 200/600,loss = 0.0735\n",
      "epoch 4/20, step 300/600,loss = 0.1230\n",
      "epoch 4/20, step 400/600,loss = 0.1221\n",
      "epoch 4/20, step 500/600,loss = 0.1078\n",
      "epoch 4/20, step 600/600,loss = 0.2019\n",
      "epoch 5/20, step 100/600,loss = 0.0969\n",
      "epoch 5/20, step 200/600,loss = 0.2038\n",
      "epoch 5/20, step 300/600,loss = 0.0477\n",
      "epoch 5/20, step 400/600,loss = 0.0984\n",
      "epoch 5/20, step 500/600,loss = 0.1025\n",
      "epoch 5/20, step 600/600,loss = 0.0913\n",
      "epoch 6/20, step 100/600,loss = 0.0615\n",
      "epoch 6/20, step 200/600,loss = 0.0587\n",
      "epoch 6/20, step 300/600,loss = 0.0600\n",
      "epoch 6/20, step 400/600,loss = 0.0857\n",
      "epoch 6/20, step 500/600,loss = 0.0748\n",
      "epoch 6/20, step 600/600,loss = 0.1176\n",
      "epoch 7/20, step 100/600,loss = 0.0351\n",
      "epoch 7/20, step 200/600,loss = 0.0478\n",
      "epoch 7/20, step 300/600,loss = 0.0344\n",
      "epoch 7/20, step 400/600,loss = 0.0473\n",
      "epoch 7/20, step 500/600,loss = 0.0461\n",
      "epoch 7/20, step 600/600,loss = 0.0415\n",
      "epoch 8/20, step 100/600,loss = 0.0178\n",
      "epoch 8/20, step 200/600,loss = 0.0254\n",
      "epoch 8/20, step 300/600,loss = 0.0292\n",
      "epoch 8/20, step 400/600,loss = 0.0560\n",
      "epoch 8/20, step 500/600,loss = 0.0730\n",
      "epoch 8/20, step 600/600,loss = 0.0593\n",
      "epoch 9/20, step 100/600,loss = 0.0208\n",
      "epoch 9/20, step 200/600,loss = 0.0437\n",
      "epoch 9/20, step 300/600,loss = 0.0352\n",
      "epoch 9/20, step 400/600,loss = 0.0176\n",
      "epoch 9/20, step 500/600,loss = 0.0381\n",
      "epoch 9/20, step 600/600,loss = 0.0991\n",
      "epoch 10/20, step 100/600,loss = 0.0330\n",
      "epoch 10/20, step 200/600,loss = 0.0148\n",
      "epoch 10/20, step 300/600,loss = 0.0115\n",
      "epoch 10/20, step 400/600,loss = 0.0141\n",
      "epoch 10/20, step 500/600,loss = 0.0232\n",
      "epoch 10/20, step 600/600,loss = 0.0235\n",
      "epoch 11/20, step 100/600,loss = 0.0621\n",
      "epoch 11/20, step 200/600,loss = 0.0442\n",
      "epoch 11/20, step 300/600,loss = 0.0182\n",
      "epoch 11/20, step 400/600,loss = 0.0225\n",
      "epoch 11/20, step 500/600,loss = 0.0170\n",
      "epoch 11/20, step 600/600,loss = 0.0406\n",
      "epoch 12/20, step 100/600,loss = 0.0435\n",
      "epoch 12/20, step 200/600,loss = 0.0244\n",
      "epoch 12/20, step 300/600,loss = 0.0268\n",
      "epoch 12/20, step 400/600,loss = 0.0279\n",
      "epoch 12/20, step 500/600,loss = 0.0821\n",
      "epoch 12/20, step 600/600,loss = 0.0211\n",
      "epoch 13/20, step 100/600,loss = 0.0331\n",
      "epoch 13/20, step 200/600,loss = 0.0296\n",
      "epoch 13/20, step 300/600,loss = 0.0052\n",
      "epoch 13/20, step 400/600,loss = 0.0562\n",
      "epoch 13/20, step 500/600,loss = 0.0331\n",
      "epoch 13/20, step 600/600,loss = 0.0107\n",
      "epoch 14/20, step 100/600,loss = 0.0111\n",
      "epoch 14/20, step 200/600,loss = 0.0363\n",
      "epoch 14/20, step 300/600,loss = 0.0141\n",
      "epoch 14/20, step 400/600,loss = 0.0064\n",
      "epoch 14/20, step 500/600,loss = 0.0234\n",
      "epoch 14/20, step 600/600,loss = 0.0052\n",
      "epoch 15/20, step 100/600,loss = 0.0087\n",
      "epoch 15/20, step 200/600,loss = 0.0209\n",
      "epoch 15/20, step 300/600,loss = 0.0359\n",
      "epoch 15/20, step 400/600,loss = 0.0372\n",
      "epoch 15/20, step 500/600,loss = 0.0194\n",
      "epoch 15/20, step 600/600,loss = 0.0072\n",
      "epoch 16/20, step 100/600,loss = 0.0111\n",
      "epoch 16/20, step 200/600,loss = 0.0259\n",
      "epoch 16/20, step 300/600,loss = 0.0134\n",
      "epoch 16/20, step 400/600,loss = 0.0074\n",
      "epoch 16/20, step 500/600,loss = 0.0092\n",
      "epoch 16/20, step 600/600,loss = 0.0165\n",
      "epoch 17/20, step 100/600,loss = 0.0237\n",
      "epoch 17/20, step 200/600,loss = 0.0137\n",
      "epoch 17/20, step 300/600,loss = 0.0048\n",
      "epoch 17/20, step 400/600,loss = 0.0127\n",
      "epoch 17/20, step 500/600,loss = 0.0095\n",
      "epoch 17/20, step 600/600,loss = 0.0051\n",
      "epoch 18/20, step 100/600,loss = 0.0042\n",
      "epoch 18/20, step 200/600,loss = 0.0071\n",
      "epoch 18/20, step 300/600,loss = 0.0065\n",
      "epoch 18/20, step 400/600,loss = 0.0038\n",
      "epoch 18/20, step 500/600,loss = 0.0095\n",
      "epoch 18/20, step 600/600,loss = 0.0503\n",
      "epoch 19/20, step 100/600,loss = 0.0141\n",
      "epoch 19/20, step 200/600,loss = 0.0103\n",
      "epoch 19/20, step 300/600,loss = 0.0087\n",
      "epoch 19/20, step 400/600,loss = 0.0121\n",
      "epoch 19/20, step 500/600,loss = 0.0045\n",
      "epoch 19/20, step 600/600,loss = 0.0034\n",
      "epoch 20/20, step 100/600,loss = 0.0083\n",
      "epoch 20/20, step 200/600,loss = 0.0037\n",
      "epoch 20/20, step 300/600,loss = 0.0071\n",
      "epoch 20/20, step 400/600,loss = 0.0055\n",
      "epoch 20/20, step 500/600,loss = 0.0153\n",
      "epoch 20/20, step 600/600,loss = 0.0079\n"
     ]
    }
   ],
   "source": [
    "#training loop\n",
    "n_total_steps = len(train_loader)\n",
    "for epoch in range(num_epochs):\n",
    "    for i, (images,labels) in enumerate(train_loader):\n",
    "        images = images.reshape(-1,28*28).to(device)\n",
    "        labels = labels.to(device)\n",
    "        #forward pass\n",
    "        outputs = model(images)\n",
    "        loss = criterion(outputs,labels)\n",
    "        #backward pass\n",
    "        optimizer.zero_grad()\n",
    "        loss.backward()\n",
    "        optimizer.step()\n",
    "        if (i+1) % 100 == 0:\n",
    "            print(f'epoch {epoch+1}/{num_epochs}, step {i+1}/{n_total_steps},loss = {loss.item():.4f}')"
   ]
  },
  {
   "cell_type": "code",
   "execution_count": 22,
   "id": "1e9ca28c",
   "metadata": {},
   "outputs": [],
   "source": [
    "# testing"
   ]
  },
  {
   "cell_type": "code",
   "execution_count": 23,
   "id": "6daec39e",
   "metadata": {},
   "outputs": [
    {
     "name": "stdout",
     "output_type": "stream",
     "text": [
      "accuracy = 100.0\n"
     ]
    }
   ],
   "source": [
    "with torch.no_grad():\n",
    "    n_correct = 0\n",
    "    n_samples = 0\n",
    "    for images, labels in test_loader:\n",
    "        images = images.reshape(-1,28*28).to(device)\n",
    "        labels = labels.to(device)\n",
    "        outputs = model(images)\n",
    "    _, predictions = torch.max(outputs,1)\n",
    "    n_samples += labels.shape[0]\n",
    "    n_correct += (predictions ==  labels).sum().item()\n",
    "    acc = 100.0 * n_correct/n_samples\n",
    "    print(f\"accuracy = {acc}\")"
   ]
  },
  {
   "cell_type": "code",
   "execution_count": 24,
   "id": "5da10300",
   "metadata": {},
   "outputs": [
    {
     "data": {
      "text/plain": [
       "100"
      ]
     },
     "execution_count": 24,
     "metadata": {},
     "output_type": "execute_result"
    }
   ],
   "source": [
    "n_samples"
   ]
  },
  {
   "cell_type": "code",
   "execution_count": 25,
   "id": "602dd15d",
   "metadata": {},
   "outputs": [
    {
     "data": {
      "text/plain": [
       "100"
      ]
     },
     "execution_count": 25,
     "metadata": {},
     "output_type": "execute_result"
    }
   ],
   "source": [
    "n_correct"
   ]
  },
  {
   "cell_type": "code",
   "execution_count": null,
   "id": "b4ba8a00",
   "metadata": {},
   "outputs": [],
   "source": []
  }
 ],
 "metadata": {
  "kernelspec": {
   "display_name": "Python 3",
   "language": "python",
   "name": "python3"
  },
  "language_info": {
   "codemirror_mode": {
    "name": "ipython",
    "version": 3
   },
   "file_extension": ".py",
   "mimetype": "text/x-python",
   "name": "python",
   "nbconvert_exporter": "python",
   "pygments_lexer": "ipython3",
   "version": "3.6.13"
  }
 },
 "nbformat": 4,
 "nbformat_minor": 5
}
