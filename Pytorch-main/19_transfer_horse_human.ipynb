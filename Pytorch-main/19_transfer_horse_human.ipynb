{
 "cells": [
  {
   "cell_type": "code",
   "execution_count": null,
   "id": "0b3b4ae5",
   "metadata": {},
   "outputs": [],
   "source": [
    "import matplotlib.pyplot as plt\n",
    "import numpy as np\n",
    "import torch\n",
    "from torch import nn\n",
    "from torch import optim\n",
    "import torch.nn.functional as F\n",
    "import torchvision\n",
    "from torchvision import datasets, transforms, models\n",
    "from torch.utils.data.sampler import SubsetRandomSampler"
   ]
  },
  {
   "cell_type": "code",
   "execution_count": null,
   "id": "1425c807",
   "metadata": {},
   "outputs": [],
   "source": [
    "data_dir = \"/home/aarav/1_pytor_train/data/horse-or-human\""
   ]
  },
  {
   "cell_type": "code",
   "execution_count": null,
   "id": "08727952",
   "metadata": {},
   "outputs": [],
   "source": [
    "valid_size = .2"
   ]
  },
  {
   "cell_type": "code",
   "execution_count": null,
   "id": "e769fcd1",
   "metadata": {},
   "outputs": [],
   "source": [
    "# Normalize the test and train sets with torchvision\n",
    "train_transforms = transforms.Compose([transforms.Resize(224),\n",
    "                                           transforms.ToTensor(),\n",
    "                                           ])\n",
    "\n",
    "test_transforms = transforms.Compose([transforms.Resize(224),\n",
    "                                          transforms.ToTensor(),\n",
    "                                          ])\n"
   ]
  },
  {
   "cell_type": "code",
   "execution_count": null,
   "id": "e9890805",
   "metadata": {},
   "outputs": [],
   "source": [
    "# ImageFolder class to load the train and test images\n",
    "train_data = datasets.ImageFolder(data_dir, transform=train_transforms)\n",
    "test_data = datasets.ImageFolder(data_dir, transform=test_transforms)"
   ]
  },
  {
   "cell_type": "code",
   "execution_count": null,
   "id": "985bffdb",
   "metadata": {},
   "outputs": [],
   "source": [
    "# Number of train images\n",
    "num_train = len(train_data)\n",
    "indices = list(range(num_train))"
   ]
  },
  {
   "cell_type": "code",
   "execution_count": null,
   "id": "bad0884b",
   "metadata": {},
   "outputs": [],
   "source": [
    "train_data.classes"
   ]
  },
  {
   "cell_type": "code",
   "execution_count": null,
   "id": "8e4f10ff",
   "metadata": {},
   "outputs": [],
   "source": [
    "# Split = 20% of train images\n",
    "split = int(np.floor(valid_size * num_train))\n",
    "# Shuffle indices of train images\n",
    "np.random.shuffle(indices)"
   ]
  },
  {
   "cell_type": "code",
   "execution_count": null,
   "id": "c8410102",
   "metadata": {},
   "outputs": [],
   "source": [
    "split"
   ]
  },
  {
   "cell_type": "code",
   "execution_count": null,
   "id": "457c4d71",
   "metadata": {},
   "outputs": [],
   "source": [
    "num_train"
   ]
  },
  {
   "cell_type": "code",
   "execution_count": null,
   "id": "676acb17",
   "metadata": {},
   "outputs": [],
   "source": [
    "# Subset indices for test and train\n",
    "train_idx, test_idx = indices[split:], indices[:split]"
   ]
  },
  {
   "cell_type": "code",
   "execution_count": null,
   "id": "3420e365",
   "metadata": {},
   "outputs": [],
   "source": [
    "len(train_idx)\n",
    "len(test_idx)"
   ]
  },
  {
   "cell_type": "code",
   "execution_count": null,
   "id": "06f979ab",
   "metadata": {},
   "outputs": [],
   "source": [
    "# Samples elements randomly from a given list of indices\n",
    "train_sampler = SubsetRandomSampler(train_idx)\n",
    "test_sampler = SubsetRandomSampler(test_idx)"
   ]
  },
  {
   "cell_type": "code",
   "execution_count": null,
   "id": "a0fa9393",
   "metadata": {},
   "outputs": [],
   "source": [
    "# Batch and load the images\n",
    "trainloader = torch.utils.data.DataLoader(train_data, sampler=train_sampler, batch_size=10)\n",
    "testloader = torch.utils.data.DataLoader(test_data, sampler=test_sampler, batch_size=10)"
   ]
  },
  {
   "cell_type": "code",
   "execution_count": null,
   "id": "03486fe8",
   "metadata": {},
   "outputs": [],
   "source": [
    "print(trainloader.dataset.classes)"
   ]
  },
  {
   "cell_type": "code",
   "execution_count": null,
   "id": "0f6d0fb8",
   "metadata": {},
   "outputs": [],
   "source": [
    "examples = iter(trainloader)\n",
    "samples ,labels = examples.next()\n",
    "samples.shape"
   ]
  },
  {
   "cell_type": "code",
   "execution_count": null,
   "id": "73fc56a7",
   "metadata": {},
   "outputs": [],
   "source": [
    "def imshow(img,title):\n",
    "    #img = img / 2 + 0.5     # unnormalize\n",
    "    npimg = img.numpy()\n",
    "    plt.figure(figsize=(25,20))\n",
    "    plt.imshow(np.transpose(npimg, (1, 2, 0)))\n",
    "    plt.xticks([])\n",
    "    plt.yticks([])\n",
    "    plt.grid(False)\n",
    "    plt.title(title)\n",
    "    plt.show()"
   ]
  },
  {
   "cell_type": "code",
   "execution_count": null,
   "id": "ca7cb2fc",
   "metadata": {},
   "outputs": [],
   "source": [
    "out = torchvision.utils.make_grid(samples)"
   ]
  },
  {
   "cell_type": "code",
   "execution_count": null,
   "id": "2d6fb861",
   "metadata": {},
   "outputs": [],
   "source": [
    "class_name = train_data.classes"
   ]
  },
  {
   "cell_type": "code",
   "execution_count": null,
   "id": "aa816220",
   "metadata": {},
   "outputs": [],
   "source": [
    "imshow(out,title=[class_name[x] for x in labels])"
   ]
  },
  {
   "cell_type": "code",
   "execution_count": null,
   "id": "91a945b2",
   "metadata": {},
   "outputs": [],
   "source": [
    "def imshow(img):\n",
    "    #img = img / 2 + 0.5     # unnormalize\n",
    "    npimg = img.numpy()\n",
    "    plt.figure(figsize=(8,8))\n",
    "    plt.imshow(np.transpose(npimg, (1, 2, 0)))\n",
    "    plt.xticks([])\n",
    "    plt.yticks([])\n",
    "    plt.grid(False)\n",
    "    #plt.title(title)\n",
    "    plt.show()\n",
    "imshow(samples[0])"
   ]
  },
  {
   "cell_type": "code",
   "execution_count": null,
   "id": "50d2fc47",
   "metadata": {},
   "outputs": [],
   "source": [
    "device = torch.device(\"cuda\" if torch.cuda.is_available() else \"cpu\")"
   ]
  },
  {
   "cell_type": "code",
   "execution_count": null,
   "id": "de55d7fe",
   "metadata": {},
   "outputs": [],
   "source": [
    "model = models.resnet18(pretrained=True)"
   ]
  },
  {
   "cell_type": "code",
   "execution_count": null,
   "id": "44090f62",
   "metadata": {},
   "outputs": [],
   "source": [
    "#freeze all params\n",
    "for params in model.parameters():\n",
    "  params.requires_grad_ = False"
   ]
  },
  {
   "cell_type": "code",
   "execution_count": null,
   "id": "8fe5beb0",
   "metadata": {},
   "outputs": [],
   "source": [
    "#add a new final layer\n",
    "nr_filters = model.fc.in_features  #number of input features of last layer\n",
    "model.fc = nn.Sequential(nn.Linear(nr_filters,512),\n",
    "                        nn.ReLU(),\n",
    "                        nn.Dropout(0.5),\n",
    "                        nn.Linear(512,2))"
   ]
  },
  {
   "cell_type": "code",
   "execution_count": null,
   "id": "2f45993e",
   "metadata": {},
   "outputs": [],
   "source": [
    "model"
   ]
  },
  {
   "cell_type": "code",
   "execution_count": null,
   "id": "8e8d08aa",
   "metadata": {},
   "outputs": [],
   "source": [
    "criterion = nn.CrossEntropyLoss()\n",
    "optimizer = optim.Adam(model.fc.parameters(), lr=0.003)\n",
    "model.to(device)"
   ]
  },
  {
   "cell_type": "code",
   "execution_count": null,
   "id": "f7366d92",
   "metadata": {},
   "outputs": [],
   "source": [
    "#Train the network\n",
    "for epoch in range(2):  # loop over the dataset multiple times\n",
    "\n",
    "    running_loss = 0.0\n",
    "    for i, data in enumerate(trainloader, 0):\n",
    "        # get the inputs; data is a list of [inputs, labels]\n",
    "        inputs, labels = data\n",
    "        inputs = inputs.to(device)\n",
    "        #labels = labels.unsqueeze(1).float()\n",
    "        labels = labels.to(device)\n",
    "\n",
    "        # zero the parameter gradients\n",
    "        optimizer.zero_grad()\n",
    "\n",
    "        # forward + backward + optimize\n",
    "        outputs = model(inputs)\n",
    "        loss = criterion(outputs, labels)\n",
    "        loss.backward()\n",
    "        optimizer.step()\n",
    "\n",
    "        # print statistics\n",
    "        running_loss += loss.item()\n",
    "        if (epoch+1) % 1 == 0:    # \n",
    "            print(f'epoch:{epoch+1},loss={running_loss}')\n",
    "            running_loss = 0.0\n",
    "\n",
    "print('Finished Training')"
   ]
  },
  {
   "cell_type": "code",
   "execution_count": null,
   "id": "51ab162b",
   "metadata": {},
   "outputs": [],
   "source": [
    "test = samples[4].view(1,3,224,224)"
   ]
  },
  {
   "cell_type": "code",
   "execution_count": null,
   "id": "effd0732",
   "metadata": {},
   "outputs": [],
   "source": [
    "test = test.to(device)"
   ]
  },
  {
   "cell_type": "code",
   "execution_count": null,
   "id": "24b0a725",
   "metadata": {},
   "outputs": [],
   "source": [
    "model(test)"
   ]
  },
  {
   "cell_type": "code",
   "execution_count": null,
   "id": "555f7ee5",
   "metadata": {},
   "outputs": [],
   "source": [
    "def visualize_model(model, num_images=10):\n",
    "    images_so_far = 0\n",
    "    fig = plt.figure(figsize=(15, 10))\n",
    "    \n",
    "    for i, data in enumerate(testloader):\n",
    "        inputs, labels = data\n",
    "        #if use_cuda:\n",
    "        inputs, labels = inputs.to(device), labels.to(device)\n",
    "        outputs = model(inputs)\n",
    "        #print(outputs.round())\n",
    "        preds = torch.max(outputs,dim=1)[1]\n",
    "        preds = preds.cpu()\n",
    "        preds = preds.numpy()\n",
    "        #print(preds)\n",
    "        #print(preds[1].item())\n",
    "        #print(int(preds[0]))\n",
    "        for j in range(inputs.size()[0]):\n",
    "            images_so_far += 1\n",
    "            ax = plt.subplot(2, num_images//2, images_so_far)\n",
    "            ax.axis('off')\n",
    "            ax.set_title('predictes: {}'.format(test_data.classes[int(preds[j])]))\n",
    "            #print(inputs[0].shape)\n",
    "            mpimg = inputs[j].cpu()\n",
    "            imshow(mpimg)\n",
    "            \n",
    "            if images_so_far == num_images:\n",
    "                return \n",
    "\n",
    "plt.ion()\n",
    "visualize_model(model)\n",
    "plt.ioff()"
   ]
  },
  {
   "cell_type": "code",
   "execution_count": null,
   "id": "f0288126",
   "metadata": {},
   "outputs": [],
   "source": []
  },
  {
   "cell_type": "code",
   "execution_count": null,
   "id": "268cd26d",
   "metadata": {},
   "outputs": [],
   "source": []
  }
 ],
 "metadata": {
  "kernelspec": {
   "display_name": "Python 3",
   "language": "python",
   "name": "python3"
  },
  "language_info": {
   "codemirror_mode": {
    "name": "ipython",
    "version": 3
   },
   "file_extension": ".py",
   "mimetype": "text/x-python",
   "name": "python",
   "nbconvert_exporter": "python",
   "pygments_lexer": "ipython3",
   "version": "3.6.13"
  }
 },
 "nbformat": 4,
 "nbformat_minor": 5
}
