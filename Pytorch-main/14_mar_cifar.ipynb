{
 "cells": [
  {
   "cell_type": "code",
   "execution_count": 1,
   "id": "c16325a1",
   "metadata": {},
   "outputs": [
    {
     "name": "stdout",
     "output_type": "stream",
     "text": [
      "cuda:0\n"
     ]
    }
   ],
   "source": [
    "import torch\n",
    "device = torch.device('cuda:0' if torch.cuda.is_available() else 'cpu')\n",
    "\n",
    "# Assuming that we are on a CUDA machine, this should print a CUDA device:\n",
    "\n",
    "print(device)"
   ]
  },
  {
   "cell_type": "code",
   "execution_count": 2,
   "id": "74d8e40c",
   "metadata": {},
   "outputs": [],
   "source": [
    "#net.to(device)"
   ]
  },
  {
   "cell_type": "code",
   "execution_count": 3,
   "id": "5d78d8b2",
   "metadata": {},
   "outputs": [],
   "source": [
    "import torch\n",
    "import torchvision\n",
    "import torchvision.transforms as transforms"
   ]
  },
  {
   "cell_type": "code",
   "execution_count": 4,
   "id": "7002ff1a",
   "metadata": {},
   "outputs": [
    {
     "name": "stdout",
     "output_type": "stream",
     "text": [
      "Requirement already satisfied: ipywidgets==7.4.2 in /home/aarav/anaconda3/envs/pract/lib/python3.6/site-packages (7.4.2)\n",
      "Requirement already satisfied: ipython>=4.0.0 in /home/aarav/anaconda3/envs/pract/lib/python3.6/site-packages (from ipywidgets==7.4.2) (7.16.1)\n",
      "Requirement already satisfied: traitlets>=4.3.1 in /home/aarav/anaconda3/envs/pract/lib/python3.6/site-packages (from ipywidgets==7.4.2) (4.3.3)\n",
      "Requirement already satisfied: nbformat>=4.2.0 in /home/aarav/anaconda3/envs/pract/lib/python3.6/site-packages (from ipywidgets==7.4.2) (5.1.3)\n",
      "Requirement already satisfied: widgetsnbextension~=3.4.0 in /home/aarav/anaconda3/envs/pract/lib/python3.6/site-packages (from ipywidgets==7.4.2) (3.4.2)\n",
      "Requirement already satisfied: ipykernel>=4.5.1 in /home/aarav/anaconda3/envs/pract/lib/python3.6/site-packages (from ipywidgets==7.4.2) (5.3.4)\n",
      "Requirement already satisfied: tornado>=4.2 in /home/aarav/anaconda3/envs/pract/lib/python3.6/site-packages (from ipykernel>=4.5.1->ipywidgets==7.4.2) (6.1)\n",
      "Requirement already satisfied: jupyter-client in /home/aarav/anaconda3/envs/pract/lib/python3.6/site-packages (from ipykernel>=4.5.1->ipywidgets==7.4.2) (7.1.2)\n",
      "Requirement already satisfied: backcall in /home/aarav/anaconda3/envs/pract/lib/python3.6/site-packages (from ipython>=4.0.0->ipywidgets==7.4.2) (0.2.0)\n",
      "Requirement already satisfied: prompt-toolkit!=3.0.0,!=3.0.1,<3.1.0,>=2.0.0 in /home/aarav/anaconda3/envs/pract/lib/python3.6/site-packages (from ipython>=4.0.0->ipywidgets==7.4.2) (3.0.20)\n",
      "Requirement already satisfied: pexpect in /home/aarav/anaconda3/envs/pract/lib/python3.6/site-packages (from ipython>=4.0.0->ipywidgets==7.4.2) (4.8.0)\n",
      "Requirement already satisfied: jedi>=0.10 in /home/aarav/anaconda3/envs/pract/lib/python3.6/site-packages (from ipython>=4.0.0->ipywidgets==7.4.2) (0.17.0)\n",
      "Requirement already satisfied: pickleshare in /home/aarav/anaconda3/envs/pract/lib/python3.6/site-packages (from ipython>=4.0.0->ipywidgets==7.4.2) (0.7.5)\n",
      "Requirement already satisfied: setuptools>=18.5 in /home/aarav/anaconda3/envs/pract/lib/python3.6/site-packages (from ipython>=4.0.0->ipywidgets==7.4.2) (58.0.4)\n",
      "Requirement already satisfied: decorator in /home/aarav/anaconda3/envs/pract/lib/python3.6/site-packages (from ipython>=4.0.0->ipywidgets==7.4.2) (5.1.1)\n",
      "Requirement already satisfied: pygments in /home/aarav/anaconda3/envs/pract/lib/python3.6/site-packages (from ipython>=4.0.0->ipywidgets==7.4.2) (2.11.2)\n",
      "Requirement already satisfied: parso>=0.7.0 in /home/aarav/anaconda3/envs/pract/lib/python3.6/site-packages (from jedi>=0.10->ipython>=4.0.0->ipywidgets==7.4.2) (0.8.3)\n",
      "Requirement already satisfied: jsonschema!=2.5.0,>=2.4 in /home/aarav/anaconda3/envs/pract/lib/python3.6/site-packages (from nbformat>=4.2.0->ipywidgets==7.4.2) (3.0.2)\n",
      "Requirement already satisfied: jupyter-core in /home/aarav/anaconda3/envs/pract/lib/python3.6/site-packages (from nbformat>=4.2.0->ipywidgets==7.4.2) (4.8.1)\n",
      "Requirement already satisfied: ipython-genutils in /home/aarav/anaconda3/envs/pract/lib/python3.6/site-packages (from nbformat>=4.2.0->ipywidgets==7.4.2) (0.2.0)\n",
      "Requirement already satisfied: pyrsistent>=0.14.0 in /home/aarav/anaconda3/envs/pract/lib/python3.6/site-packages (from jsonschema!=2.5.0,>=2.4->nbformat>=4.2.0->ipywidgets==7.4.2) (0.17.3)\n",
      "Requirement already satisfied: attrs>=17.4.0 in /home/aarav/anaconda3/envs/pract/lib/python3.6/site-packages (from jsonschema!=2.5.0,>=2.4->nbformat>=4.2.0->ipywidgets==7.4.2) (21.4.0)\n",
      "Requirement already satisfied: six>=1.11.0 in /home/aarav/anaconda3/envs/pract/lib/python3.6/site-packages (from jsonschema!=2.5.0,>=2.4->nbformat>=4.2.0->ipywidgets==7.4.2) (1.16.0)\n",
      "Requirement already satisfied: wcwidth in /home/aarav/anaconda3/envs/pract/lib/python3.6/site-packages (from prompt-toolkit!=3.0.0,!=3.0.1,<3.1.0,>=2.0.0->ipython>=4.0.0->ipywidgets==7.4.2) (0.2.5)\n",
      "Requirement already satisfied: notebook>=4.4.1 in /home/aarav/anaconda3/envs/pract/lib/python3.6/site-packages (from widgetsnbextension~=3.4.0->ipywidgets==7.4.2) (6.4.3)\n",
      "Requirement already satisfied: jinja2 in /home/aarav/anaconda3/envs/pract/lib/python3.6/site-packages (from notebook>=4.4.1->widgetsnbextension~=3.4.0->ipywidgets==7.4.2) (3.0.3)\n",
      "Requirement already satisfied: argon2-cffi in /home/aarav/anaconda3/envs/pract/lib/python3.6/site-packages (from notebook>=4.4.1->widgetsnbextension~=3.4.0->ipywidgets==7.4.2) (20.1.0)\n",
      "Requirement already satisfied: nbconvert in /home/aarav/anaconda3/envs/pract/lib/python3.6/site-packages (from notebook>=4.4.1->widgetsnbextension~=3.4.0->ipywidgets==7.4.2) (6.0.7)\n",
      "Requirement already satisfied: Send2Trash>=1.5.0 in /home/aarav/anaconda3/envs/pract/lib/python3.6/site-packages (from notebook>=4.4.1->widgetsnbextension~=3.4.0->ipywidgets==7.4.2) (1.8.0)\n",
      "Requirement already satisfied: prometheus-client in /home/aarav/anaconda3/envs/pract/lib/python3.6/site-packages (from notebook>=4.4.1->widgetsnbextension~=3.4.0->ipywidgets==7.4.2) (0.13.1)\n",
      "Requirement already satisfied: pyzmq>=17 in /home/aarav/anaconda3/envs/pract/lib/python3.6/site-packages (from notebook>=4.4.1->widgetsnbextension~=3.4.0->ipywidgets==7.4.2) (22.2.1)\n",
      "Requirement already satisfied: terminado>=0.8.3 in /home/aarav/anaconda3/envs/pract/lib/python3.6/site-packages (from notebook>=4.4.1->widgetsnbextension~=3.4.0->ipywidgets==7.4.2) (0.9.4)\n",
      "Requirement already satisfied: python-dateutil>=2.1 in /home/aarav/anaconda3/envs/pract/lib/python3.6/site-packages (from jupyter-client->ipykernel>=4.5.1->ipywidgets==7.4.2) (2.8.2)\n",
      "Requirement already satisfied: nest-asyncio>=1.5 in /home/aarav/anaconda3/envs/pract/lib/python3.6/site-packages (from jupyter-client->ipykernel>=4.5.1->ipywidgets==7.4.2) (1.5.1)\n",
      "Requirement already satisfied: entrypoints in /home/aarav/anaconda3/envs/pract/lib/python3.6/site-packages (from jupyter-client->ipykernel>=4.5.1->ipywidgets==7.4.2) (0.3)\n",
      "Requirement already satisfied: ptyprocess in /home/aarav/anaconda3/envs/pract/lib/python3.6/site-packages (from terminado>=0.8.3->notebook>=4.4.1->widgetsnbextension~=3.4.0->ipywidgets==7.4.2) (0.7.0)\n",
      "Requirement already satisfied: cffi>=1.0.0 in /home/aarav/anaconda3/envs/pract/lib/python3.6/site-packages (from argon2-cffi->notebook>=4.4.1->widgetsnbextension~=3.4.0->ipywidgets==7.4.2) (1.14.6)\n",
      "Requirement already satisfied: pycparser in /home/aarav/anaconda3/envs/pract/lib/python3.6/site-packages (from cffi>=1.0.0->argon2-cffi->notebook>=4.4.1->widgetsnbextension~=3.4.0->ipywidgets==7.4.2) (2.21)\n",
      "Requirement already satisfied: MarkupSafe>=2.0 in /home/aarav/anaconda3/envs/pract/lib/python3.6/site-packages (from jinja2->notebook>=4.4.1->widgetsnbextension~=3.4.0->ipywidgets==7.4.2) (2.0.1)\n",
      "Requirement already satisfied: mistune<2,>=0.8.1 in /home/aarav/anaconda3/envs/pract/lib/python3.6/site-packages (from nbconvert->notebook>=4.4.1->widgetsnbextension~=3.4.0->ipywidgets==7.4.2) (0.8.4)\n",
      "Requirement already satisfied: testpath in /home/aarav/anaconda3/envs/pract/lib/python3.6/site-packages (from nbconvert->notebook>=4.4.1->widgetsnbextension~=3.4.0->ipywidgets==7.4.2) (0.5.0)\n",
      "Requirement already satisfied: defusedxml in /home/aarav/anaconda3/envs/pract/lib/python3.6/site-packages (from nbconvert->notebook>=4.4.1->widgetsnbextension~=3.4.0->ipywidgets==7.4.2) (0.7.1)\n",
      "Requirement already satisfied: pandocfilters>=1.4.1 in /home/aarav/anaconda3/envs/pract/lib/python3.6/site-packages (from nbconvert->notebook>=4.4.1->widgetsnbextension~=3.4.0->ipywidgets==7.4.2) (1.5.0)\n",
      "Requirement already satisfied: jupyterlab-pygments in /home/aarav/anaconda3/envs/pract/lib/python3.6/site-packages (from nbconvert->notebook>=4.4.1->widgetsnbextension~=3.4.0->ipywidgets==7.4.2) (0.1.2)\n",
      "Requirement already satisfied: bleach in /home/aarav/anaconda3/envs/pract/lib/python3.6/site-packages (from nbconvert->notebook>=4.4.1->widgetsnbextension~=3.4.0->ipywidgets==7.4.2) (4.1.0)\n",
      "Requirement already satisfied: nbclient<0.6.0,>=0.5.0 in /home/aarav/anaconda3/envs/pract/lib/python3.6/site-packages (from nbconvert->notebook>=4.4.1->widgetsnbextension~=3.4.0->ipywidgets==7.4.2) (0.5.3)\n",
      "Requirement already satisfied: async-generator in /home/aarav/anaconda3/envs/pract/lib/python3.6/site-packages (from nbclient<0.6.0,>=0.5.0->nbconvert->notebook>=4.4.1->widgetsnbextension~=3.4.0->ipywidgets==7.4.2) (1.10)\n",
      "Requirement already satisfied: webencodings in /home/aarav/anaconda3/envs/pract/lib/python3.6/site-packages (from bleach->nbconvert->notebook>=4.4.1->widgetsnbextension~=3.4.0->ipywidgets==7.4.2) (0.5.1)\n",
      "Requirement already satisfied: packaging in /home/aarav/anaconda3/envs/pract/lib/python3.6/site-packages (from bleach->nbconvert->notebook>=4.4.1->widgetsnbextension~=3.4.0->ipywidgets==7.4.2) (21.3)\n"
     ]
    },
    {
     "name": "stdout",
     "output_type": "stream",
     "text": [
      "Requirement already satisfied: pyparsing!=3.0.5,>=2.0.2 in /home/aarav/anaconda3/envs/pract/lib/python3.6/site-packages (from packaging->bleach->nbconvert->notebook>=4.4.1->widgetsnbextension~=3.4.0->ipywidgets==7.4.2) (3.0.8)\r\n"
     ]
    }
   ],
   "source": [
    "!pip install ipywidgets==7.4.2"
   ]
  },
  {
   "cell_type": "code",
   "execution_count": 5,
   "id": "79c4990f",
   "metadata": {},
   "outputs": [
    {
     "name": "stdout",
     "output_type": "stream",
     "text": [
      "Files already downloaded and verified\n",
      "Files already downloaded and verified\n"
     ]
    }
   ],
   "source": [
    "transform = transforms.Compose(\n",
    "    [transforms.ToTensor(),\n",
    "     transforms.Normalize((0.5, 0.5, 0.5), (0.5, 0.5, 0.5))])\n",
    "\n",
    "batch_size = 4\n",
    "\n",
    "trainset = torchvision.datasets.CIFAR10(root='./data', train=True,\n",
    "                                        download=True, transform=transform)\n",
    "trainloader = torch.utils.data.DataLoader(trainset, batch_size=batch_size,\n",
    "                                          shuffle=True, num_workers=2)\n",
    "\n",
    "testset = torchvision.datasets.CIFAR10(root='./data', train=False,\n",
    "                                       download=True, transform=transform)\n",
    "testloader = torch.utils.data.DataLoader(testset, batch_size=batch_size,\n",
    "                                         shuffle=False, num_workers=2)\n",
    "\n",
    "classes = ('plane', 'car', 'bird', 'cat',\n",
    "           'deer', 'dog', 'frog', 'horse', 'ship', 'truck')"
   ]
  },
  {
   "cell_type": "code",
   "execution_count": 6,
   "id": "89b08144",
   "metadata": {},
   "outputs": [
    {
     "data": {
      "image/png": "[encoded data removed]",
      "text/plain": [
       "<Figure size 432x288 with 1 Axes>"
      ]
     },
     "metadata": {
      "needs_background": "light"
     },
     "output_type": "display_data"
    },
    {
     "name": "stdout",
     "output_type": "stream",
     "text": [
      "plane horse frog  frog \n"
     ]
    }
   ],
   "source": [
    "import matplotlib.pyplot as plt\n",
    "import numpy as np\n",
    "\n",
    "# functions to show an image\n",
    "\n",
    "\n",
    "def imshow(img):\n",
    "    img = img / 2 + 0.5     # unnormalize\n",
    "    npimg = img.numpy()\n",
    "    plt.imshow(np.transpose(npimg, (1, 2, 0)))\n",
    "    plt.show()\n",
    "\n",
    "\n",
    "# get some random training images\n",
    "dataiter = iter(trainloader)\n",
    "images, labels = dataiter.next()\n",
    "\n",
    "# show images\n",
    "imshow(torchvision.utils.make_grid(images))\n",
    "# print labels\n",
    "print(' '.join(f'{classes[labels[j]]:5s}' for j in range(batch_size)))"
   ]
  },
  {
   "cell_type": "code",
   "execution_count": 7,
   "id": "e949b1a2",
   "metadata": {},
   "outputs": [],
   "source": [
    "import torch.nn as nn\n",
    "import torch.nn.functional as F\n",
    "\n",
    "\n",
    "class Net(nn.Module):\n",
    "    def __init__(self):\n",
    "        super().__init__()\n",
    "        self.conv1 = nn.Conv2d(3, 6, 5)\n",
    "        self.pool = nn.MaxPool2d(2, 2)\n",
    "        self.conv2 = nn.Conv2d(6, 16, 5)\n",
    "        self.fc1 = nn.Linear(16 * 5 * 5, 120)\n",
    "        self.fc2 = nn.Linear(120, 84)\n",
    "        self.fc3 = nn.Linear(84, 10)\n",
    "\n",
    "    def forward(self, x):\n",
    "        x = self.pool(F.relu(self.conv1(x)))\n",
    "        x = self.pool(F.relu(self.conv2(x)))\n",
    "        x = torch.flatten(x, 1) # flatten all dimensions except batch\n",
    "        x = F.relu(self.fc1(x))\n",
    "        x = F.relu(self.fc2(x))\n",
    "        x = self.fc3(x)\n",
    "        return x\n",
    "\n",
    "\n",
    "net = Net()"
   ]
  },
  {
   "cell_type": "code",
   "execution_count": 8,
   "id": "4d2d3c2c",
   "metadata": {},
   "outputs": [],
   "source": [
    "import torch.optim as optim\n",
    "\n",
    "criterion = nn.CrossEntropyLoss()\n",
    "optimizer = optim.SGD(net.parameters(), lr=0.001, momentum=0.9)"
   ]
  },
  {
   "cell_type": "code",
   "execution_count": null,
   "id": "dc59ea50",
   "metadata": {},
   "outputs": [
    {
     "name": "stderr",
     "output_type": "stream",
     "text": [
      "/home/aarav/anaconda3/envs/pract/lib/python3.6/site-packages/torch/nn/functional.py:718: UserWarning: Named tensors and all their associated APIs are an experimental feature and subject to change. Please do not use them for anything important until they are released as stable. (Triggered internally at  /pytorch/c10/core/TensorImpl.h:1156.)\n",
      "  return torch.max_pool2d(input, kernel_size, stride, padding, dilation, ceil_mode)\n"
     ]
    },
    {
     "name": "stdout",
     "output_type": "stream",
     "text": [
      "[1,  2000] loss: 2.252\n",
      "[1,  4000] loss: 1.939\n",
      "[1,  6000] loss: 1.715\n",
      "[1,  8000] loss: 1.589\n",
      "[1, 10000] loss: 1.507\n",
      "[1, 12000] loss: 1.473\n"
     ]
    }
   ],
   "source": [
    "for epoch in range(2):  # loop over the dataset multiple times\n",
    "\n",
    "    running_loss = 0.0\n",
    "    for i, data in enumerate(trainloader, 0):\n",
    "        # get the inputs; data is a list of [inputs, labels]\n",
    "        inputs, labels = data\n",
    "\n",
    "        # zero the parameter gradients\n",
    "        optimizer.zero_grad()\n",
    "\n",
    "        # forward + backward + optimize\n",
    "        outputs = net(inputs)\n",
    "        loss = criterion(outputs, labels)\n",
    "        loss.backward()\n",
    "        optimizer.step()\n",
    "\n",
    "        # print statistics\n",
    "        running_loss += loss.item()\n",
    "        if i % 2000 == 1999:    # print every 2000 mini-batches\n",
    "            print(f'[{epoch + 1}, {i + 1:5d}] loss: {running_loss / 2000:.3f}')\n",
    "            running_loss = 0.0\n",
    "\n",
    "print('Finished Training')"
   ]
  },
  {
   "cell_type": "code",
   "execution_count": null,
   "id": "bdc50c2f",
   "metadata": {},
   "outputs": [],
   "source": [
    "PATH = './cifar_net.pth'\n",
    "torch.save(net.state_dict(), PATH)"
   ]
  },
  {
   "cell_type": "code",
   "execution_count": null,
   "id": "ad03429f",
   "metadata": {},
   "outputs": [],
   "source": [
    "dataiter = iter(testloader)\n",
    "images, labels = dataiter.next()\n",
    "\n",
    "# print images\n",
    "imshow(torchvision.utils.make_grid(images))\n",
    "print('GroundTruth: ', ' '.join(f'{classes[labels[j]]:5s}' for j in range(4)))"
   ]
  },
  {
   "cell_type": "code",
   "execution_count": null,
   "id": "9e6ceb6f",
   "metadata": {},
   "outputs": [],
   "source": [
    "net = Net()\n",
    "net.load_state_dict(torch.load(PATH))"
   ]
  },
  {
   "cell_type": "code",
   "execution_count": null,
   "id": "84d01e97",
   "metadata": {},
   "outputs": [],
   "source": [
    "outputs = net(images)"
   ]
  },
  {
   "cell_type": "code",
   "execution_count": null,
   "id": "d43a9fd4",
   "metadata": {},
   "outputs": [],
   "source": [
    "_, predicted = torch.max(outputs, 1)\n",
    "\n",
    "print('Predicted: ', ' '.join(f'{classes[predicted[j]]:5s}'\n",
    "                              for j in range(4)))"
   ]
  },
  {
   "cell_type": "code",
   "execution_count": null,
   "id": "10759397",
   "metadata": {},
   "outputs": [],
   "source": [
    "correct = 0\n",
    "total = 0\n",
    "# since we're not training, we don't need to calculate the gradients for our outputs\n",
    "with torch.no_grad():\n",
    "    for data in testloader:\n",
    "        images, labels = data\n",
    "        # calculate outputs by running images through the network\n",
    "        outputs = net(images)\n",
    "        # the class with the highest energy is what we choose as prediction\n",
    "        _, predicted = torch.max(outputs.data, 1)\n",
    "        total += labels.size(0)\n",
    "        correct += (predicted == labels).sum().item()\n",
    "\n",
    "print(f'Accuracy of the network on the 10000 test images: {100 * correct // total} %')"
   ]
  },
  {
   "cell_type": "code",
   "execution_count": null,
   "id": "e7fbe251",
   "metadata": {},
   "outputs": [],
   "source": [
    "# prepare to count predictions for each class\n",
    "correct_pred = {classname: 0 for classname in classes}\n",
    "total_pred = {classname: 0 for classname in classes}\n",
    "\n",
    "# again no gradients needed\n",
    "with torch.no_grad():\n",
    "    for data in testloader:\n",
    "        images, labels = data\n",
    "        outputs = net(images)\n",
    "        _, predictions = torch.max(outputs, 1)\n",
    "        # collect the correct predictions for each class\n",
    "        for label, prediction in zip(labels, predictions):\n",
    "            if label == prediction:\n",
    "                correct_pred[classes[label]] += 1\n",
    "            total_pred[classes[label]] += 1\n",
    "\n",
    "\n",
    "# print accuracy for each class\n",
    "for classname, correct_count in correct_pred.items():\n",
    "    accuracy = 100 * float(correct_count) / total_pred[classname]\n",
    "    print(f'Accuracy for class: {classname:5s} is {accuracy:.1f} %')"
   ]
  },
  {
   "cell_type": "code",
   "execution_count": null,
   "id": "e856e16f",
   "metadata": {},
   "outputs": [],
   "source": []
  }
 ],
 "metadata": {
  "kernelspec": {
   "display_name": "Python 3",
   "language": "python",
   "name": "python3"
  },
  "language_info": {
   "codemirror_mode": {
    "name": "ipython",
    "version": 3
   },
   "file_extension": ".py",
   "mimetype": "text/x-python",
   "name": "python",
   "nbconvert_exporter": "python",
   "pygments_lexer": "ipython3",
   "version": "3.6.13"
  }
 },
 "nbformat": 4,
 "nbformat_minor": 5
}
