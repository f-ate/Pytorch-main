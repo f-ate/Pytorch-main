{
 "cells": [
  {
   "cell_type": "code",
   "execution_count": 1,
   "id": "9718199b",
   "metadata": {},
   "outputs": [],
   "source": [
    "import torch\n",
    "import torch.nn as nn\n",
    "import numpy as np\n",
    "from sklearn import datasets\n",
    "from sklearn.preprocessing import StandardScaler\n",
    "from sklearn.model_selection import train_test_split"
   ]
  },
  {
   "cell_type": "code",
   "execution_count": 2,
   "id": "a9d80476",
   "metadata": {},
   "outputs": [],
   "source": [
    "bc = datasets.load_breast_cancer()"
   ]
  },
  {
   "cell_type": "code",
   "execution_count": 3,
   "id": "eef5068c",
   "metadata": {},
   "outputs": [],
   "source": [
    "X,y  = bc.data,bc.target"
   ]
  },
  {
   "cell_type": "code",
   "execution_count": 4,
   "id": "4cb8fb5b",
   "metadata": {},
   "outputs": [],
   "source": [
    "n_sample,n_features = X.shape"
   ]
  },
  {
   "cell_type": "code",
   "execution_count": 5,
   "id": "a328c5d4",
   "metadata": {},
   "outputs": [
    {
     "name": "stdout",
     "output_type": "stream",
     "text": [
      "569 30\n"
     ]
    }
   ],
   "source": [
    "print(n_sample,n_features)"
   ]
  },
  {
   "cell_type": "code",
   "execution_count": 6,
   "id": "9ed94fd0",
   "metadata": {},
   "outputs": [],
   "source": [
    "X_train,X_test,y_train,y_test = train_test_split(X,y,test_size=0.2,random_state=1234)"
   ]
  },
  {
   "cell_type": "code",
   "execution_count": 7,
   "id": "67e3c2a7",
   "metadata": {},
   "outputs": [],
   "source": [
    "sc = StandardScaler()\n",
    "X_train = sc.fit_transform(X_train)\n",
    "X_test = sc.transform(X_test)"
   ]
  },
  {
   "cell_type": "code",
   "execution_count": 8,
   "id": "8611d267",
   "metadata": {},
   "outputs": [],
   "source": [
    "X_train = torch.from_numpy(X_train.astype(np.float32))\n",
    "X_test = torch.from_numpy(X_test.astype(np.float32))\n",
    "y_train = torch.from_numpy(y_train.astype(np.float32))\n",
    "y_test = torch.from_numpy(y_test.astype(np.float32))"
   ]
  },
  {
   "cell_type": "code",
   "execution_count": 9,
   "id": "a138a811",
   "metadata": {},
   "outputs": [],
   "source": [
    "y_train = y_train.view(y_train.shape[0],1)\n",
    "y_test = y_test.view(y_test.shape[0],1)"
   ]
  },
  {
   "cell_type": "code",
   "execution_count": 10,
   "id": "28bbec14",
   "metadata": {},
   "outputs": [
    {
     "data": {
      "text/plain": [
       "torch.Size([455, 1])"
      ]
     },
     "execution_count": 10,
     "metadata": {},
     "output_type": "execute_result"
    }
   ],
   "source": [
    "y_train.shape"
   ]
  },
  {
   "cell_type": "code",
   "execution_count": 11,
   "id": "38f07cb3",
   "metadata": {},
   "outputs": [],
   "source": [
    "# model (f = wx+b,then sigmoid at end)"
   ]
  },
  {
   "cell_type": "code",
   "execution_count": 12,
   "id": "c4e16540",
   "metadata": {},
   "outputs": [],
   "source": [
    "class LogisticRegression(nn.Module):\n",
    "    def __init__(self,n_input_features):\n",
    "        super(LogisticRegression,self).__init__()\n",
    "        self.linear = nn.Linear(n_input_features,1)\n",
    "    def forward(self,x):\n",
    "        y_predicted = torch.sigmoid(self.linear(x))\n",
    "        return y_predicted"
   ]
  },
  {
   "cell_type": "code",
   "execution_count": 13,
   "id": "0e485c4d",
   "metadata": {},
   "outputs": [],
   "source": [
    "model = LogisticRegression(n_features)"
   ]
  },
  {
   "cell_type": "code",
   "execution_count": 14,
   "id": "17c40f36",
   "metadata": {},
   "outputs": [],
   "source": [
    "#loss\n",
    "learning_rate = 0.01\n",
    "criterion = nn.BCELoss()\n",
    "optimizer = torch.optim.SGD(model.parameters(),lr=learning_rate)"
   ]
  },
  {
   "cell_type": "code",
   "execution_count": 15,
   "id": "519fb929",
   "metadata": {},
   "outputs": [
    {
     "name": "stdout",
     "output_type": "stream",
     "text": [
      "epoch:1,loss=0.8248\n",
      "epoch:2,loss=0.7965\n",
      "epoch:3,loss=0.7698\n",
      "epoch:4,loss=0.7445\n",
      "epoch:5,loss=0.7207\n",
      "epoch:6,loss=0.6982\n",
      "epoch:7,loss=0.6769\n",
      "epoch:8,loss=0.6570\n",
      "epoch:9,loss=0.6382\n",
      "epoch:10,loss=0.6204\n",
      "epoch:11,loss=0.6037\n",
      "epoch:12,loss=0.5880\n",
      "epoch:13,loss=0.5732\n",
      "epoch:14,loss=0.5592\n",
      "epoch:15,loss=0.5460\n",
      "epoch:16,loss=0.5336\n",
      "epoch:17,loss=0.5218\n",
      "epoch:18,loss=0.5106\n",
      "epoch:19,loss=0.5001\n",
      "epoch:20,loss=0.4901\n",
      "epoch:21,loss=0.4806\n",
      "epoch:22,loss=0.4716\n",
      "epoch:23,loss=0.4631\n",
      "epoch:24,loss=0.4549\n",
      "epoch:25,loss=0.4472\n",
      "epoch:26,loss=0.4398\n",
      "epoch:27,loss=0.4327\n",
      "epoch:28,loss=0.4260\n",
      "epoch:29,loss=0.4195\n",
      "epoch:30,loss=0.4133\n",
      "epoch:31,loss=0.4074\n",
      "epoch:32,loss=0.4018\n",
      "epoch:33,loss=0.3963\n",
      "epoch:34,loss=0.3911\n",
      "epoch:35,loss=0.3860\n",
      "epoch:36,loss=0.3812\n",
      "epoch:37,loss=0.3765\n",
      "epoch:38,loss=0.3720\n",
      "epoch:39,loss=0.3677\n",
      "epoch:40,loss=0.3635\n",
      "epoch:41,loss=0.3595\n",
      "epoch:42,loss=0.3556\n",
      "epoch:43,loss=0.3518\n",
      "epoch:44,loss=0.3481\n",
      "epoch:45,loss=0.3446\n",
      "epoch:46,loss=0.3411\n",
      "epoch:47,loss=0.3378\n",
      "epoch:48,loss=0.3346\n",
      "epoch:49,loss=0.3314\n",
      "epoch:50,loss=0.3284\n",
      "epoch:51,loss=0.3254\n",
      "epoch:52,loss=0.3225\n",
      "epoch:53,loss=0.3197\n",
      "epoch:54,loss=0.3170\n",
      "epoch:55,loss=0.3143\n",
      "epoch:56,loss=0.3117\n",
      "epoch:57,loss=0.3092\n",
      "epoch:58,loss=0.3067\n",
      "epoch:59,loss=0.3043\n",
      "epoch:60,loss=0.3020\n",
      "epoch:61,loss=0.2997\n",
      "epoch:62,loss=0.2975\n",
      "epoch:63,loss=0.2953\n",
      "epoch:64,loss=0.2931\n",
      "epoch:65,loss=0.2911\n",
      "epoch:66,loss=0.2890\n",
      "epoch:67,loss=0.2870\n",
      "epoch:68,loss=0.2851\n",
      "epoch:69,loss=0.2832\n",
      "epoch:70,loss=0.2813\n",
      "epoch:71,loss=0.2795\n",
      "epoch:72,loss=0.2777\n",
      "epoch:73,loss=0.2759\n",
      "epoch:74,loss=0.2742\n",
      "epoch:75,loss=0.2725\n",
      "epoch:76,loss=0.2709\n",
      "epoch:77,loss=0.2692\n",
      "epoch:78,loss=0.2677\n",
      "epoch:79,loss=0.2661\n",
      "epoch:80,loss=0.2646\n",
      "epoch:81,loss=0.2630\n",
      "epoch:82,loss=0.2616\n",
      "epoch:83,loss=0.2601\n",
      "epoch:84,loss=0.2587\n",
      "epoch:85,loss=0.2573\n",
      "epoch:86,loss=0.2559\n",
      "epoch:87,loss=0.2546\n",
      "epoch:88,loss=0.2532\n",
      "epoch:89,loss=0.2519\n",
      "epoch:90,loss=0.2506\n",
      "epoch:91,loss=0.2494\n",
      "epoch:92,loss=0.2481\n",
      "epoch:93,loss=0.2469\n",
      "epoch:94,loss=0.2457\n",
      "epoch:95,loss=0.2445\n",
      "epoch:96,loss=0.2433\n",
      "epoch:97,loss=0.2422\n",
      "epoch:98,loss=0.2410\n",
      "epoch:99,loss=0.2399\n",
      "epoch:100,loss=0.2388\n"
     ]
    }
   ],
   "source": [
    "#training loop\n",
    "num_epoch = 100\n",
    "for epoch in range(num_epoch):\n",
    "    y_predicted = model(X_train)\n",
    "    loss = criterion(y_predicted,y_train)\n",
    "    #back pass\n",
    "    loss.backward()\n",
    "    # update\n",
    "    optimizer.step()\n",
    "    optimizer.zero_grad()\n",
    "    if (epoch+1) % 1 == 0:\n",
    "        print(f'epoch:{epoch+1},loss={loss.item():.4f}')"
   ]
  },
  {
   "cell_type": "code",
   "execution_count": 17,
   "id": "275e6c3f",
   "metadata": {},
   "outputs": [
    {
     "name": "stdout",
     "output_type": "stream",
     "text": [
      "accuracy: = 0.9035\n"
     ]
    }
   ],
   "source": [
    "#testing\n",
    "\n",
    "with torch.no_grad():\n",
    "    y_predicted = model(X_test)\n",
    "    y_predicted_cls = y_predicted.round()\n",
    "    acc = y_predicted_cls.eq(y_test).sum()/float(y_test.shape[0])\n",
    "    \n",
    "print(f'accuracy: = {acc:.4f}')"
   ]
  },
  {
   "cell_type": "code",
   "execution_count": null,
   "id": "84b3735b",
   "metadata": {},
   "outputs": [],
   "source": []
  }
 ],
 "metadata": {
  "kernelspec": {
   "display_name": "Python 3",
   "language": "python",
   "name": "python3"
  },
  "language_info": {
   "codemirror_mode": {
    "name": "ipython",
    "version": 3
   },
   "file_extension": ".py",
   "mimetype": "text/x-python",
   "name": "python",
   "nbconvert_exporter": "python",
   "pygments_lexer": "ipython3",
   "version": "3.6.13"
  }
 },
 "nbformat": 4,
 "nbformat_minor": 5
}
