{
 "cells": [
  {
   "cell_type": "code",
   "execution_count": 1,
   "id": "07b1cd57",
   "metadata": {},
   "outputs": [],
   "source": [
    "# Almost everything is an Object, with its properties and methods.\n",
    "# A class is like an object constructor, or a blueprint for creating object."
   ]
  },
  {
   "cell_type": "code",
   "execution_count": 2,
   "id": "2a46743a",
   "metadata": {},
   "outputs": [],
   "source": [
    "class MyClass:\n",
    "    x = 5 #(property)"
   ]
  },
  {
   "cell_type": "code",
   "execution_count": 3,
   "id": "250de191",
   "metadata": {},
   "outputs": [],
   "source": [
    "# now create an object named p1 and print the value og x"
   ]
  },
  {
   "cell_type": "code",
   "execution_count": 4,
   "id": "78538ae8",
   "metadata": {},
   "outputs": [],
   "source": [
    "p1 = MyClass()"
   ]
  },
  {
   "cell_type": "code",
   "execution_count": 5,
   "id": "697e62bf",
   "metadata": {},
   "outputs": [
    {
     "data": {
      "text/plain": [
       "5"
      ]
     },
     "execution_count": 5,
     "metadata": {},
     "output_type": "execute_result"
    }
   ],
   "source": [
    "p1.x"
   ]
  },
  {
   "cell_type": "code",
   "execution_count": 6,
   "id": "a8c519eb",
   "metadata": {},
   "outputs": [],
   "source": [
    "#all classes have a function called __init__() which is always execute when class being initied.\n",
    "# use __init__() function to asign values to object properties or the operators that necessary to do when the oject is being created.\n"
   ]
  },
  {
   "cell_type": "code",
   "execution_count": 7,
   "id": "3fb5446b",
   "metadata": {},
   "outputs": [],
   "source": [
    "class Person:\n",
    "    def __init__(self,name,age):\n",
    "        self.name = name\n",
    "        self.age = age"
   ]
  },
  {
   "cell_type": "code",
   "execution_count": 9,
   "id": "efb7753e",
   "metadata": {},
   "outputs": [],
   "source": [
    "p1 = Person(\"dany\",40)"
   ]
  },
  {
   "cell_type": "code",
   "execution_count": 10,
   "id": "9a9d297f",
   "metadata": {},
   "outputs": [
    {
     "data": {
      "text/plain": [
       "'dany'"
      ]
     },
     "execution_count": 10,
     "metadata": {},
     "output_type": "execute_result"
    }
   ],
   "source": [
    "p1.name"
   ]
  },
  {
   "cell_type": "code",
   "execution_count": 11,
   "id": "8f2fdb7c",
   "metadata": {},
   "outputs": [
    {
     "data": {
      "text/plain": [
       "40"
      ]
     },
     "execution_count": 11,
     "metadata": {},
     "output_type": "execute_result"
    }
   ],
   "source": [
    "p1.age"
   ]
  },
  {
   "cell_type": "code",
   "execution_count": 12,
   "id": "5533f2b0",
   "metadata": {},
   "outputs": [],
   "source": [
    "# inheritance allows us to define a class that inherits all the methods and properties from another class"
   ]
  },
  {
   "cell_type": "code",
   "execution_count": 13,
   "id": "2164bb0b",
   "metadata": {},
   "outputs": [],
   "source": [
    "#create parent class\n",
    "class Person:\n",
    "    def __init__(self,fname,lname):\n",
    "        self.firstname = fname\n",
    "        self.lastname = lname\n",
    "    def printname(self):\n",
    "        print(self.firstname,self.lastname)"
   ]
  },
  {
   "cell_type": "code",
   "execution_count": 14,
   "id": "dde69ccd",
   "metadata": {},
   "outputs": [],
   "source": [
    "# create an obj^\n",
    "x =  Person(\"dany\",\"petkar\")"
   ]
  },
  {
   "cell_type": "code",
   "execution_count": 15,
   "id": "25453502",
   "metadata": {},
   "outputs": [
    {
     "name": "stdout",
     "output_type": "stream",
     "text": [
      "dany petkar\n"
     ]
    }
   ],
   "source": [
    "x.printname()"
   ]
  },
  {
   "cell_type": "code",
   "execution_count": 16,
   "id": "8ca2f419",
   "metadata": {},
   "outputs": [],
   "source": [
    "#create child class\n",
    "class student(Person):\n",
    "    pass               #when you dont have add any properties and methods"
   ]
  },
  {
   "cell_type": "code",
   "execution_count": 17,
   "id": "dcc100bb",
   "metadata": {},
   "outputs": [],
   "source": [
    "x = student('aarav','petkar')"
   ]
  },
  {
   "cell_type": "code",
   "execution_count": 19,
   "id": "25898076",
   "metadata": {},
   "outputs": [
    {
     "name": "stdout",
     "output_type": "stream",
     "text": [
      "aarav petkar\n"
     ]
    }
   ],
   "source": [
    "x.printname()"
   ]
  },
  {
   "cell_type": "code",
   "execution_count": 20,
   "id": "18fda3de",
   "metadata": {},
   "outputs": [],
   "source": [
    "# add __init__() function when you add the __init__() func^ the child no longer inherite the parent"
   ]
  },
  {
   "cell_type": "code",
   "execution_count": 22,
   "id": "9f45781e",
   "metadata": {},
   "outputs": [],
   "source": [
    "class student(Person):\n",
    "    def __init__(self,fname,lname):\n",
    "        self.firstname = fname\n",
    "        self.lastname = lname"
   ]
  },
  {
   "cell_type": "code",
   "execution_count": 23,
   "id": "d8f676d7",
   "metadata": {},
   "outputs": [],
   "source": [
    "#to keep inheritance of parent"
   ]
  },
  {
   "cell_type": "code",
   "execution_count": 24,
   "id": "32a9b6bb",
   "metadata": {},
   "outputs": [],
   "source": [
    "class student(Person):\n",
    "    def __init__(self,fname,lname):\n",
    "        Person.__init__(self,fname,lname)"
   ]
  },
  {
   "cell_type": "code",
   "execution_count": 25,
   "id": "58a48b11",
   "metadata": {},
   "outputs": [],
   "source": [
    "# Super() function that will make the child class inherit all the methods and properties from parents"
   ]
  },
  {
   "cell_type": "code",
   "execution_count": 27,
   "id": "30c3f88d",
   "metadata": {},
   "outputs": [],
   "source": [
    "class student(Person):\n",
    "    def __init__(self,fname,lname,year):\n",
    "        super().__init__(fname,lname)\n",
    "        self.graduationyear = year"
   ]
  },
  {
   "cell_type": "code",
   "execution_count": 28,
   "id": "954ddd7f",
   "metadata": {},
   "outputs": [],
   "source": [
    "x = student('dany','petkar','2000')"
   ]
  },
  {
   "cell_type": "code",
   "execution_count": 29,
   "id": "899ca706",
   "metadata": {},
   "outputs": [
    {
     "data": {
      "text/plain": [
       "'2000'"
      ]
     },
     "execution_count": 29,
     "metadata": {},
     "output_type": "execute_result"
    }
   ],
   "source": [
    "x.graduationyear"
   ]
  },
  {
   "cell_type": "code",
   "execution_count": 31,
   "id": "6d16dcfe",
   "metadata": {},
   "outputs": [
    {
     "name": "stdout",
     "output_type": "stream",
     "text": [
      "dany petkar\n"
     ]
    }
   ],
   "source": [
    "x.printname()"
   ]
  },
  {
   "cell_type": "code",
   "execution_count": 32,
   "id": "5394feb4",
   "metadata": {},
   "outputs": [],
   "source": [
    "# add some more methods"
   ]
  },
  {
   "cell_type": "code",
   "execution_count": null,
   "id": "67b7c1d7",
   "metadata": {},
   "outputs": [],
   "source": [
    "class student(Person):\n",
    "    def __init__(self,fname,lname,year):\n",
    "        super().__init__(fname,lname)\n",
    "        self.graduationyear = year\n",
    "    def welcome(self):\n",
    "        print(\"welcome\", self.firstname,self.)"
   ]
  }
 ],
 "metadata": {
  "kernelspec": {
   "display_name": "Python 3",
   "language": "python",
   "name": "python3"
  },
  "language_info": {
   "codemirror_mode": {
    "name": "ipython",
    "version": 3
   },
   "file_extension": ".py",
   "mimetype": "text/x-python",
   "name": "python",
   "nbconvert_exporter": "python",
   "pygments_lexer": "ipython3",
   "version": "3.6.13"
  }
 },
 "nbformat": 4,
 "nbformat_minor": 5
}
