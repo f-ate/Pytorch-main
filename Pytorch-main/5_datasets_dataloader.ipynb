{
 "cells": [
  {
   "cell_type": "code",
   "execution_count": 1,
   "id": "8c837568",
   "metadata": {},
   "outputs": [],
   "source": [
    "import torch\n",
    "import torchvision\n",
    "from torch.utils.data import DataLoader,Dataset\n",
    "import numpy as np\n",
    "import math"
   ]
  },
  {
   "cell_type": "code",
   "execution_count": 4,
   "id": "7d6d8296",
   "metadata": {},
   "outputs": [],
   "source": [
    "class WineDataset(Dataset):\n",
    "    def __init__(self):\n",
    "        xy = np.loadtxt('wine.csv',delimiter=\",\",dtype=np.float32,skiprows=1)\n",
    "        self.x = torch.from_numpy(xy[:,1:])\n",
    "        self.y = torch.from_numpy(xy[:,[0]])\n",
    "        self.n_samples = xy.shape[0]\n",
    "    def __getitem__(self,index):\n",
    "        return self.x[index],self.y[index]\n",
    "    def __len__(self):\n",
    "        return self.n_samples"
   ]
  },
  {
   "cell_type": "code",
   "execution_count": 5,
   "id": "6aacdbde",
   "metadata": {},
   "outputs": [],
   "source": [
    "dataset = WineDataset()"
   ]
  },
  {
   "cell_type": "code",
   "execution_count": 6,
   "id": "228fe4b7",
   "metadata": {},
   "outputs": [],
   "source": [
    "first_data = dataset[0]"
   ]
  },
  {
   "cell_type": "code",
   "execution_count": 7,
   "id": "746ea3a7",
   "metadata": {},
   "outputs": [
    {
     "data": {
      "text/plain": [
       "(tensor([1.4230e+01, 1.7100e+00, 2.4300e+00, 1.5600e+01, 1.2700e+02, 2.8000e+00,\n",
       "         3.0600e+00, 2.8000e-01, 2.2900e+00, 5.6400e+00, 1.0400e+00, 3.9200e+00,\n",
       "         1.0650e+03]),\n",
       " tensor([1.]))"
      ]
     },
     "execution_count": 7,
     "metadata": {},
     "output_type": "execute_result"
    }
   ],
   "source": [
    "first_data"
   ]
  },
  {
   "cell_type": "code",
   "execution_count": 8,
   "id": "d6720bd3",
   "metadata": {},
   "outputs": [
    {
     "name": "stdout",
     "output_type": "stream",
     "text": [
      "tensor([1.4230e+01, 1.7100e+00, 2.4300e+00, 1.5600e+01, 1.2700e+02, 2.8000e+00,\n",
      "        3.0600e+00, 2.8000e-01, 2.2900e+00, 5.6400e+00, 1.0400e+00, 3.9200e+00,\n",
      "        1.0650e+03])\n",
      "tensor([1.])\n"
     ]
    }
   ],
   "source": [
    "features, labels = first_data\n",
    "print(features)\n",
    "print(labels)"
   ]
  },
  {
   "cell_type": "code",
   "execution_count": 9,
   "id": "261ce73d",
   "metadata": {},
   "outputs": [],
   "source": [
    "# DataLoader\n",
    "dataloader = DataLoader(dataset=dataset,batch_size=4,shuffle=True,num_workers=2)"
   ]
  },
  {
   "cell_type": "code",
   "execution_count": 10,
   "id": "ed27cfb2",
   "metadata": {},
   "outputs": [],
   "source": [
    "dataiter = iter(dataloader)"
   ]
  },
  {
   "cell_type": "code",
   "execution_count": 11,
   "id": "8cfb04ad",
   "metadata": {},
   "outputs": [
    {
     "data": {
      "text/plain": [
       "<torch.utils.data.dataloader._MultiProcessingDataLoaderIter at 0x7f77b0a96550>"
      ]
     },
     "execution_count": 11,
     "metadata": {},
     "output_type": "execute_result"
    }
   ],
   "source": [
    "dataiter"
   ]
  },
  {
   "cell_type": "code",
   "execution_count": 12,
   "id": "533b4ccc",
   "metadata": {},
   "outputs": [],
   "source": [
    "data = dataiter.next()"
   ]
  },
  {
   "cell_type": "code",
   "execution_count": 13,
   "id": "ebae38c9",
   "metadata": {},
   "outputs": [
    {
     "data": {
      "text/plain": [
       "[tensor([[1.4390e+01, 1.8700e+00, 2.4500e+00, 1.4600e+01, 9.6000e+01, 2.5000e+00,\n",
       "          2.5200e+00, 3.0000e-01, 1.9800e+00, 5.2500e+00, 1.0200e+00, 3.5800e+00,\n",
       "          1.2900e+03],\n",
       "         [1.3360e+01, 2.5600e+00, 2.3500e+00, 2.0000e+01, 8.9000e+01, 1.4000e+00,\n",
       "          5.0000e-01, 3.7000e-01, 6.4000e-01, 5.6000e+00, 7.0000e-01, 2.4700e+00,\n",
       "          7.8000e+02],\n",
       "         [1.3820e+01, 1.7500e+00, 2.4200e+00, 1.4000e+01, 1.1100e+02, 3.8800e+00,\n",
       "          3.7400e+00, 3.2000e-01, 1.8700e+00, 7.0500e+00, 1.0100e+00, 3.2600e+00,\n",
       "          1.1900e+03],\n",
       "         [1.3410e+01, 3.8400e+00, 2.1200e+00, 1.8800e+01, 9.0000e+01, 2.4500e+00,\n",
       "          2.6800e+00, 2.7000e-01, 1.4800e+00, 4.2800e+00, 9.1000e-01, 3.0000e+00,\n",
       "          1.0350e+03]]),\n",
       " tensor([[1.],\n",
       "         [3.],\n",
       "         [1.],\n",
       "         [1.]])]"
      ]
     },
     "execution_count": 13,
     "metadata": {},
     "output_type": "execute_result"
    }
   ],
   "source": [
    "data"
   ]
  },
  {
   "cell_type": "code",
   "execution_count": 14,
   "id": "353a8ad4",
   "metadata": {},
   "outputs": [
    {
     "name": "stdout",
     "output_type": "stream",
     "text": [
      "tensor([[1.4390e+01, 1.8700e+00, 2.4500e+00, 1.4600e+01, 9.6000e+01, 2.5000e+00,\n",
      "         2.5200e+00, 3.0000e-01, 1.9800e+00, 5.2500e+00, 1.0200e+00, 3.5800e+00,\n",
      "         1.2900e+03],\n",
      "        [1.3360e+01, 2.5600e+00, 2.3500e+00, 2.0000e+01, 8.9000e+01, 1.4000e+00,\n",
      "         5.0000e-01, 3.7000e-01, 6.4000e-01, 5.6000e+00, 7.0000e-01, 2.4700e+00,\n",
      "         7.8000e+02],\n",
      "        [1.3820e+01, 1.7500e+00, 2.4200e+00, 1.4000e+01, 1.1100e+02, 3.8800e+00,\n",
      "         3.7400e+00, 3.2000e-01, 1.8700e+00, 7.0500e+00, 1.0100e+00, 3.2600e+00,\n",
      "         1.1900e+03],\n",
      "        [1.3410e+01, 3.8400e+00, 2.1200e+00, 1.8800e+01, 9.0000e+01, 2.4500e+00,\n",
      "         2.6800e+00, 2.7000e-01, 1.4800e+00, 4.2800e+00, 9.1000e-01, 3.0000e+00,\n",
      "         1.0350e+03]])\n",
      "tensor([[1.],\n",
      "        [3.],\n",
      "        [1.],\n",
      "        [1.]])\n"
     ]
    }
   ],
   "source": [
    "features,labels = data\n",
    "print(features)\n",
    "print(labels)"
   ]
  },
  {
   "cell_type": "code",
   "execution_count": 15,
   "id": "ee657288",
   "metadata": {},
   "outputs": [
    {
     "name": "stdout",
     "output_type": "stream",
     "text": [
      "178 45\n"
     ]
    }
   ],
   "source": [
    "#training loop\n",
    "num_epochs = 2\n",
    "total_samples = len(dataset)\n",
    "n_iterations = math.ceil(total_samples/4)\n",
    "print(total_samples,n_iterations)"
   ]
  },
  {
   "cell_type": "code",
   "execution_count": 16,
   "id": "8608ba29",
   "metadata": {},
   "outputs": [
    {
     "name": "stdout",
     "output_type": "stream",
     "text": [
      "epoch 1/2, step 1/45,inputs torch.Size([4, 13])\n",
      "epoch 1/2, step 2/45,inputs torch.Size([4, 13])\n",
      "epoch 1/2, step 3/45,inputs torch.Size([4, 13])\n",
      "epoch 1/2, step 4/45,inputs torch.Size([4, 13])\n",
      "epoch 1/2, step 5/45,inputs torch.Size([4, 13])\n",
      "epoch 1/2, step 6/45,inputs torch.Size([4, 13])\n",
      "epoch 1/2, step 7/45,inputs torch.Size([4, 13])\n",
      "epoch 1/2, step 8/45,inputs torch.Size([4, 13])\n",
      "epoch 1/2, step 9/45,inputs torch.Size([4, 13])\n",
      "epoch 1/2, step 10/45,inputs torch.Size([4, 13])\n",
      "epoch 1/2, step 11/45,inputs torch.Size([4, 13])\n",
      "epoch 1/2, step 12/45,inputs torch.Size([4, 13])\n",
      "epoch 1/2, step 13/45,inputs torch.Size([4, 13])\n",
      "epoch 1/2, step 14/45,inputs torch.Size([4, 13])\n",
      "epoch 1/2, step 15/45,inputs torch.Size([4, 13])\n",
      "epoch 1/2, step 16/45,inputs torch.Size([4, 13])\n",
      "epoch 1/2, step 17/45,inputs torch.Size([4, 13])\n",
      "epoch 1/2, step 18/45,inputs torch.Size([4, 13])\n",
      "epoch 1/2, step 19/45,inputs torch.Size([4, 13])\n",
      "epoch 1/2, step 20/45,inputs torch.Size([4, 13])\n",
      "epoch 1/2, step 21/45,inputs torch.Size([4, 13])\n",
      "epoch 1/2, step 22/45,inputs torch.Size([4, 13])\n",
      "epoch 1/2, step 23/45,inputs torch.Size([4, 13])\n",
      "epoch 1/2, step 24/45,inputs torch.Size([4, 13])\n",
      "epoch 1/2, step 25/45,inputs torch.Size([4, 13])\n",
      "epoch 1/2, step 26/45,inputs torch.Size([4, 13])\n",
      "epoch 1/2, step 27/45,inputs torch.Size([4, 13])\n",
      "epoch 1/2, step 28/45,inputs torch.Size([4, 13])\n",
      "epoch 1/2, step 29/45,inputs torch.Size([4, 13])\n",
      "epoch 1/2, step 30/45,inputs torch.Size([4, 13])\n",
      "epoch 1/2, step 31/45,inputs torch.Size([4, 13])\n",
      "epoch 1/2, step 32/45,inputs torch.Size([4, 13])\n",
      "epoch 1/2, step 33/45,inputs torch.Size([4, 13])\n",
      "epoch 1/2, step 34/45,inputs torch.Size([4, 13])\n",
      "epoch 1/2, step 35/45,inputs torch.Size([4, 13])\n",
      "epoch 1/2, step 36/45,inputs torch.Size([4, 13])\n",
      "epoch 1/2, step 37/45,inputs torch.Size([4, 13])\n",
      "epoch 1/2, step 38/45,inputs torch.Size([4, 13])\n",
      "epoch 1/2, step 39/45,inputs torch.Size([4, 13])\n",
      "epoch 1/2, step 40/45,inputs torch.Size([4, 13])\n",
      "epoch 1/2, step 41/45,inputs torch.Size([4, 13])\n",
      "epoch 1/2, step 42/45,inputs torch.Size([4, 13])\n",
      "epoch 1/2, step 43/45,inputs torch.Size([4, 13])\n",
      "epoch 1/2, step 44/45,inputs torch.Size([4, 13])\n",
      "epoch 1/2, step 45/45,inputs torch.Size([2, 13])\n",
      "epoch 2/2, step 1/45,inputs torch.Size([4, 13])\n",
      "epoch 2/2, step 2/45,inputs torch.Size([4, 13])\n",
      "epoch 2/2, step 3/45,inputs torch.Size([4, 13])\n",
      "epoch 2/2, step 4/45,inputs torch.Size([4, 13])\n",
      "epoch 2/2, step 5/45,inputs torch.Size([4, 13])\n",
      "epoch 2/2, step 6/45,inputs torch.Size([4, 13])\n",
      "epoch 2/2, step 7/45,inputs torch.Size([4, 13])\n",
      "epoch 2/2, step 8/45,inputs torch.Size([4, 13])\n",
      "epoch 2/2, step 9/45,inputs torch.Size([4, 13])\n",
      "epoch 2/2, step 10/45,inputs torch.Size([4, 13])\n",
      "epoch 2/2, step 11/45,inputs torch.Size([4, 13])\n",
      "epoch 2/2, step 12/45,inputs torch.Size([4, 13])\n",
      "epoch 2/2, step 13/45,inputs torch.Size([4, 13])\n",
      "epoch 2/2, step 14/45,inputs torch.Size([4, 13])\n",
      "epoch 2/2, step 15/45,inputs torch.Size([4, 13])\n",
      "epoch 2/2, step 16/45,inputs torch.Size([4, 13])\n",
      "epoch 2/2, step 17/45,inputs torch.Size([4, 13])\n",
      "epoch 2/2, step 18/45,inputs torch.Size([4, 13])\n",
      "epoch 2/2, step 19/45,inputs torch.Size([4, 13])\n",
      "epoch 2/2, step 20/45,inputs torch.Size([4, 13])\n",
      "epoch 2/2, step 21/45,inputs torch.Size([4, 13])\n",
      "epoch 2/2, step 22/45,inputs torch.Size([4, 13])\n",
      "epoch 2/2, step 23/45,inputs torch.Size([4, 13])\n",
      "epoch 2/2, step 24/45,inputs torch.Size([4, 13])\n",
      "epoch 2/2, step 25/45,inputs torch.Size([4, 13])\n",
      "epoch 2/2, step 26/45,inputs torch.Size([4, 13])\n",
      "epoch 2/2, step 27/45,inputs torch.Size([4, 13])\n",
      "epoch 2/2, step 28/45,inputs torch.Size([4, 13])\n",
      "epoch 2/2, step 29/45,inputs torch.Size([4, 13])\n",
      "epoch 2/2, step 30/45,inputs torch.Size([4, 13])\n",
      "epoch 2/2, step 31/45,inputs torch.Size([4, 13])\n",
      "epoch 2/2, step 32/45,inputs torch.Size([4, 13])\n",
      "epoch 2/2, step 33/45,inputs torch.Size([4, 13])\n",
      "epoch 2/2, step 34/45,inputs torch.Size([4, 13])\n",
      "epoch 2/2, step 35/45,inputs torch.Size([4, 13])\n",
      "epoch 2/2, step 36/45,inputs torch.Size([4, 13])\n",
      "epoch 2/2, step 37/45,inputs torch.Size([4, 13])\n",
      "epoch 2/2, step 38/45,inputs torch.Size([4, 13])\n",
      "epoch 2/2, step 39/45,inputs torch.Size([4, 13])\n",
      "epoch 2/2, step 40/45,inputs torch.Size([4, 13])\n",
      "epoch 2/2, step 41/45,inputs torch.Size([4, 13])\n",
      "epoch 2/2, step 42/45,inputs torch.Size([4, 13])\n",
      "epoch 2/2, step 43/45,inputs torch.Size([4, 13])\n",
      "epoch 2/2, step 44/45,inputs torch.Size([4, 13])\n",
      "epoch 2/2, step 45/45,inputs torch.Size([2, 13])\n"
     ]
    }
   ],
   "source": [
    "for epoch in range(num_epochs):\n",
    "    for i,(inputs,labels) in enumerate(dataloader):\n",
    "        if (i+1)%1==0:\n",
    "            print(f'epoch {epoch+1}/{num_epochs}, step {i+1}/{n_iterations},inputs {inputs.shape}')"
   ]
  },
  {
   "cell_type": "code",
   "execution_count": null,
   "id": "7ad491d0",
   "metadata": {},
   "outputs": [],
   "source": []
  }
 ],
 "metadata": {
  "kernelspec": {
   "display_name": "Python 3",
   "language": "python",
   "name": "python3"
  },
  "language_info": {
   "codemirror_mode": {
    "name": "ipython",
    "version": 3
   },
   "file_extension": ".py",
   "mimetype": "text/x-python",
   "name": "python",
   "nbconvert_exporter": "python",
   "pygments_lexer": "ipython3",
   "version": "3.6.13"
  }
 },
 "nbformat": 4,
 "nbformat_minor": 5
}
