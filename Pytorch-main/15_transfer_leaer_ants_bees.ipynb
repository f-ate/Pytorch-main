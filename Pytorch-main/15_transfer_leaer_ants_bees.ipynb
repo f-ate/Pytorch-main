{
 "cells": [
  {
   "cell_type": "code",
   "execution_count": 1,
   "id": "b5de9cb8",
   "metadata": {},
   "outputs": [],
   "source": [
    "import torch\n",
    "import torch.nn as nn\n",
    "import torch.optim as optim\n",
    "from torchvision import datasets,models,transforms\n",
    "import numpy as np\n",
    "import torchvision\n",
    "import matplotlib.pyplot as plt\n",
    "import time\n",
    "import os\n",
    "import copy"
   ]
  },
  {
   "cell_type": "code",
   "execution_count": 2,
   "id": "9fe006f6",
   "metadata": {},
   "outputs": [],
   "source": [
    "mean = np.array([0.5,0.5,0.5])\n",
    "std = np.array([0.25,0.25,0.25])"
   ]
  },
  {
   "cell_type": "code",
   "execution_count": 3,
   "id": "083d2fbf",
   "metadata": {},
   "outputs": [],
   "source": [
    "data_transforms = {\n",
    "    'train': transforms.Compose([\n",
    "        transforms.RandomResizedCrop(224),\n",
    "        transforms.RandomHorizontalFlip(),\n",
    "        transforms.ToTensor(),\n",
    "        transforms.Normalize(mean,std)\n",
    "    ]),\n",
    "    'val': transforms.Compose([\n",
    "        transforms.Resize(256),\n",
    "        transforms.CenterCrop(224),\n",
    "        transforms.ToTensor(),\n",
    "        transforms.Normalize(mean,std)\n",
    "    ])\n",
    "}"
   ]
  },
  {
   "cell_type": "code",
   "execution_count": 4,
   "id": "8cde354f",
   "metadata": {},
   "outputs": [],
   "source": [
    "data_dir = 'data/hymenoptera_data/'"
   ]
  },
  {
   "cell_type": "code",
   "execution_count": 5,
   "id": "0246b319",
   "metadata": {},
   "outputs": [],
   "source": [
    "image_datasets = {x:datasets.ImageFolder(os.path.join(data_dir,x),data_transforms[x]) for x in ['train','val']}"
   ]
  },
  {
   "cell_type": "code",
   "execution_count": 6,
   "id": "72b55821",
   "metadata": {},
   "outputs": [
    {
     "data": {
      "text/plain": [
       "{'train': Dataset ImageFolder\n",
       "     Number of datapoints: 244\n",
       "     Root location: data/hymenoptera_data/train\n",
       "     StandardTransform\n",
       " Transform: Compose(\n",
       "                RandomResizedCrop(size=(224, 224), scale=(0.08, 1.0), ratio=(0.75, 1.3333), interpolation=bilinear)\n",
       "                RandomHorizontalFlip(p=0.5)\n",
       "                ToTensor()\n",
       "                Normalize(mean=[0.5 0.5 0.5], std=[0.25 0.25 0.25])\n",
       "            ),\n",
       " 'val': Dataset ImageFolder\n",
       "     Number of datapoints: 153\n",
       "     Root location: data/hymenoptera_data/val\n",
       "     StandardTransform\n",
       " Transform: Compose(\n",
       "                Resize(size=256, interpolation=bilinear, max_size=None, antialias=None)\n",
       "                CenterCrop(size=(224, 224))\n",
       "                ToTensor()\n",
       "                Normalize(mean=[0.5 0.5 0.5], std=[0.25 0.25 0.25])\n",
       "            )}"
      ]
     },
     "execution_count": 6,
     "metadata": {},
     "output_type": "execute_result"
    }
   ],
   "source": [
    "image_datasets"
   ]
  },
  {
   "cell_type": "code",
   "execution_count": 7,
   "id": "6ecd534b",
   "metadata": {},
   "outputs": [],
   "source": [
    "class_names= image_datasets['train'].classes"
   ]
  },
  {
   "cell_type": "code",
   "execution_count": 8,
   "id": "86ada620",
   "metadata": {},
   "outputs": [],
   "source": [
    "dataloaders = {x:torch.utils.data.DataLoader(image_datasets[x],batch_size=4,shuffle=True,num_workers=0) for x in ['train','val']} "
   ]
  },
  {
   "cell_type": "code",
   "execution_count": 9,
   "id": "c3a5caaa",
   "metadata": {},
   "outputs": [],
   "source": [
    "dataset_size = {x:len(image_datasets[x]) for x in ['train','val']}"
   ]
  },
  {
   "cell_type": "code",
   "execution_count": 10,
   "id": "c0dde7f3",
   "metadata": {},
   "outputs": [
    {
     "data": {
      "text/plain": [
       "{'train': 244, 'val': 153}"
      ]
     },
     "execution_count": 10,
     "metadata": {},
     "output_type": "execute_result"
    }
   ],
   "source": [
    "dataset_size"
   ]
  },
  {
   "cell_type": "code",
   "execution_count": 11,
   "id": "cb791c5c",
   "metadata": {},
   "outputs": [
    {
     "name": "stdout",
     "output_type": "stream",
     "text": [
      "cuda\n"
     ]
    }
   ],
   "source": [
    "device = torch.device('cuda' if torch.cuda.is_available() else 'cpu')\n",
    "print(device)"
   ]
  },
  {
   "cell_type": "code",
   "execution_count": 12,
   "id": "173d6cb0",
   "metadata": {},
   "outputs": [],
   "source": [
    "def imshow(inp,title):\n",
    "    inp = inp.numpy().transpose((1,2,0))\n",
    "    inp = std*inp+mean\n",
    "    inp = np.clip(inp,0,1)\n",
    "    plt.imshow(inp)\n",
    "    plt.title(title)\n",
    "    plt.show()"
   ]
  },
  {
   "cell_type": "code",
   "execution_count": 13,
   "id": "261331b4",
   "metadata": {},
   "outputs": [],
   "source": [
    "inputs,classes = next(iter(dataloaders['train']))"
   ]
  },
  {
   "cell_type": "code",
   "execution_count": 14,
   "id": "82c666cf",
   "metadata": {},
   "outputs": [
    {
     "data": {
      "text/plain": [
       "tensor([[[[-1.1373, -0.5725, -0.2275,  ...,  0.9804,  0.8549,  0.5255],\n",
       "          [-1.1059, -0.5412, -0.1961,  ...,  1.1216,  0.8863,  0.5882],\n",
       "          [-0.8863, -0.3529, -0.0863,  ...,  1.1059,  0.9333,  0.7294],\n",
       "          ...,\n",
       "          [ 0.9647,  1.1529,  1.1059,  ..., -0.8549, -0.9020, -0.9961],\n",
       "          [ 1.1216,  1.4353,  0.9490,  ..., -0.8392, -1.0118, -1.1216],\n",
       "          [ 1.6235,  1.2471,  0.5255,  ..., -0.9333, -1.0745, -1.2000]],\n",
       "\n",
       "         [[-1.0275, -0.4471, -0.1020,  ...,  1.1059,  0.9490,  0.5882],\n",
       "          [-0.9647, -0.3686, -0.0235,  ...,  1.2157,  0.9490,  0.6353],\n",
       "          [-0.7137, -0.1961,  0.0549,  ...,  1.2157,  1.0118,  0.7765],\n",
       "          ...,\n",
       "          [ 1.0431,  1.1529,  1.0588,  ..., -0.8706, -0.8549, -0.8863],\n",
       "          [ 1.2000,  1.4353,  0.9020,  ..., -0.8706, -0.9804, -0.9961],\n",
       "          [ 1.7020,  1.2471,  0.4941,  ..., -0.9647, -1.0431, -1.0902]],\n",
       "\n",
       "         [[-0.3373,  0.0706,  0.1647,  ...,  1.2941,  1.0745,  0.7451],\n",
       "          [-0.2588,  0.1176,  0.1490,  ...,  1.4353,  1.1373,  0.8549],\n",
       "          [-0.1490,  0.1961,  0.2431,  ...,  1.3725,  1.1843,  1.0588],\n",
       "          ...,\n",
       "          [ 1.0275,  1.1686,  1.2314,  ..., -0.7294, -0.7608, -0.8235],\n",
       "          [ 1.1529,  1.4039,  1.0902,  ..., -0.7137, -0.8863, -0.9490],\n",
       "          [ 1.6549,  1.2157,  0.6667,  ..., -0.8078, -0.9647, -1.0588]]],\n",
       "\n",
       "\n",
       "        [[[-1.9059, -1.7961, -1.8275,  ..., -0.1961, -0.2275, -0.2275],\n",
       "          [-1.8118, -1.7490, -1.8118,  ..., -0.1961, -0.1804, -0.2118],\n",
       "          [-1.1843, -1.4196, -1.7647,  ..., -0.2902, -0.1961, -0.1490],\n",
       "          ...,\n",
       "          [ 0.4784,  0.4471,  0.5725,  ...,  1.4667,  1.4667,  1.4824],\n",
       "          [ 0.4941,  0.4941,  0.5255,  ...,  1.4667,  1.4667,  1.4824],\n",
       "          [ 0.6196,  0.6039,  0.4627,  ...,  1.4824,  1.4824,  1.4980]],\n",
       "\n",
       "         [[-1.7176, -1.7647, -1.7961,  ...,  0.2902,  0.1647,  0.1961],\n",
       "          [-1.6863, -1.7333, -1.7176,  ...,  0.4000,  0.2275,  0.3373],\n",
       "          [-1.0745, -1.3882, -1.7020,  ...,  0.3529,  0.2275,  0.3686],\n",
       "          ...,\n",
       "          [ 0.1804,  0.2118,  0.2902,  ...,  1.5765,  1.5765,  1.5922],\n",
       "          [ 0.2118,  0.2275,  0.3529,  ...,  1.5765,  1.5765,  1.5922],\n",
       "          [ 0.4314,  0.4157,  0.3686,  ...,  1.6078,  1.6078,  1.6235]],\n",
       "\n",
       "         [[-1.7490, -1.7020, -1.7804,  ..., -0.8392, -0.6510, -0.6196],\n",
       "          [-1.7020, -1.7804, -1.8275,  ..., -0.7451, -0.6353, -0.6824],\n",
       "          [-0.9961, -1.3569, -1.7020,  ..., -0.7922, -0.6039, -0.5569],\n",
       "          ...,\n",
       "          [ 0.5882,  0.4941,  0.6039,  ...,  1.8588,  1.8588,  1.8745],\n",
       "          [ 0.5255,  0.4627,  0.4941,  ...,  1.8588,  1.8588,  1.8745],\n",
       "          [ 0.6824,  0.6039,  0.4627,  ...,  1.8431,  1.8431,  1.8588]]],\n",
       "\n",
       "\n",
       "        [[[ 1.1686,  1.1373,  1.0745,  ..., -0.5412, -0.5569, -0.5255],\n",
       "          [ 1.2000,  1.1686,  1.1373,  ..., -0.5725, -0.5569, -0.5412],\n",
       "          [ 1.2314,  1.2157,  1.1686,  ..., -0.5725, -0.5412, -0.5412],\n",
       "          ...,\n",
       "          [-0.0078, -0.0392, -0.1490,  ..., -0.6980, -0.7608, -0.7765],\n",
       "          [-0.0078, -0.0863, -0.1804,  ..., -0.7294, -0.7922, -0.8235],\n",
       "          [-0.0549, -0.1490, -0.2431,  ..., -0.7765, -0.7922, -0.8235]],\n",
       "\n",
       "         [[ 1.2627,  1.2471,  1.2627,  ..., -0.4627, -0.3843, -0.3529],\n",
       "          [ 1.2941,  1.2784,  1.2784,  ..., -0.4941, -0.3843, -0.3373],\n",
       "          [ 1.3412,  1.3255,  1.3098,  ..., -0.5255, -0.3843, -0.3373],\n",
       "          ...,\n",
       "          [ 0.0863,  0.0549, -0.0078,  ..., -0.3059, -0.3529, -0.3686],\n",
       "          [ 0.0863,  0.0235, -0.0392,  ..., -0.3216, -0.3686, -0.4000],\n",
       "          [ 0.0549, -0.0235, -0.1020,  ..., -0.3843, -0.3529, -0.3686]],\n",
       "\n",
       "         [[ 0.4627,  0.4471,  0.4157,  ..., -1.3569, -1.3255, -1.3412],\n",
       "          [ 0.5098,  0.4784,  0.4471,  ..., -1.3412, -1.3255, -1.2941],\n",
       "          [ 0.5725,  0.5255,  0.4627,  ..., -1.3412, -1.2627, -1.2471],\n",
       "          ...,\n",
       "          [-1.9216, -1.9059, -1.9216,  ..., -1.9216, -1.9059, -1.9059],\n",
       "          [-1.9059, -1.9059, -1.9059,  ..., -1.9059, -1.8588, -1.8745],\n",
       "          [-1.8902, -1.9059, -1.9059,  ..., -1.8745, -1.8431, -1.8745]]],\n",
       "\n",
       "\n",
       "        [[[ 0.4941,  0.3216,  0.3216,  ..., -0.6667, -0.8392, -0.9333],\n",
       "          [ 0.5412,  0.4471,  0.2588,  ..., -0.6980, -0.9020, -1.0118],\n",
       "          [ 0.8078,  0.5882,  0.3686,  ..., -0.7608, -0.9804, -1.0902],\n",
       "          ...,\n",
       "          [-0.2275, -0.2588, -0.2902,  ..., -1.5765, -1.4824, -1.4039],\n",
       "          [-0.1647, -0.2118, -0.2431,  ..., -1.7647, -1.6706, -1.5922],\n",
       "          [-0.1176, -0.1647, -0.1804,  ..., -1.8902, -1.8275, -1.7647]],\n",
       "\n",
       "         [[-0.9176, -1.1059, -1.1216,  ..., -1.4353, -1.4824, -1.5137],\n",
       "          [-0.8549, -0.9647, -1.1843,  ..., -1.4980, -1.5451, -1.5765],\n",
       "          [-0.5412, -0.7922, -1.0431,  ..., -1.5294, -1.6078, -1.6235],\n",
       "          ...,\n",
       "          [ 0.6353,  0.6196,  0.6039,  ..., -0.8863, -0.8078, -0.7608],\n",
       "          [ 0.6824,  0.6510,  0.6353,  ..., -1.0902, -1.0118, -0.9647],\n",
       "          [ 0.7294,  0.6824,  0.6667,  ..., -1.2314, -1.1529, -1.1216]],\n",
       "\n",
       "         [[-0.9176, -1.1059, -1.1373,  ..., -1.6392, -1.7490, -1.8588],\n",
       "          [-0.7608, -0.9020, -1.1686,  ..., -1.6706, -1.8118, -1.9059],\n",
       "          [-0.3686, -0.6824, -1.0118,  ..., -1.7020, -1.8745, -1.9529],\n",
       "          ...,\n",
       "          [-1.0745, -1.0588, -1.0745,  ..., -1.9843, -1.9843, -1.9686],\n",
       "          [-1.0431, -1.0588, -1.0588,  ..., -2.0000, -1.9843, -1.9843],\n",
       "          [-1.0118, -1.0431, -1.0588,  ..., -1.9843, -1.9843, -2.0000]]]])"
      ]
     },
     "execution_count": 14,
     "metadata": {},
     "output_type": "execute_result"
    }
   ],
   "source": [
    "inputs"
   ]
  },
  {
   "cell_type": "code",
   "execution_count": 15,
   "id": "9c4fbaf7",
   "metadata": {},
   "outputs": [
    {
     "data": {
      "text/plain": [
       "torch.Size([4, 3, 224, 224])"
      ]
     },
     "execution_count": 15,
     "metadata": {},
     "output_type": "execute_result"
    }
   ],
   "source": [
    "inputs.shape"
   ]
  },
  {
   "cell_type": "code",
   "execution_count": 16,
   "id": "ee171b04",
   "metadata": {},
   "outputs": [
    {
     "data": {
      "text/plain": [
       "tensor([0, 0, 0, 1])"
      ]
     },
     "execution_count": 16,
     "metadata": {},
     "output_type": "execute_result"
    }
   ],
   "source": [
    "classes"
   ]
  },
  {
   "cell_type": "code",
   "execution_count": 17,
   "id": "4e5bb3c8",
   "metadata": {},
   "outputs": [],
   "source": [
    "inputs_val,classes_val = next(iter(dataloaders['val']))"
   ]
  },
  {
   "cell_type": "code",
   "execution_count": 18,
   "id": "0cf35cd5",
   "metadata": {},
   "outputs": [
    {
     "data": {
      "text/plain": [
       "torch.Size([4, 3, 224, 224])"
      ]
     },
     "execution_count": 18,
     "metadata": {},
     "output_type": "execute_result"
    }
   ],
   "source": [
    "inputs_val.shape"
   ]
  },
  {
   "cell_type": "code",
   "execution_count": 19,
   "id": "7f250e4f",
   "metadata": {},
   "outputs": [],
   "source": [
    "out = torchvision.utils.make_grid(inputs)"
   ]
  },
  {
   "cell_type": "code",
   "execution_count": 20,
   "id": "f0b9545d",
   "metadata": {},
   "outputs": [
    {
     "data": {
      "image/png": "[encoded data removed]",
      "text/plain": [
       "<Figure size 432x288 with 1 Axes>"
      ]
     },
     "metadata": {
      "needs_background": "light"
     },
     "output_type": "display_data"
    }
   ],
   "source": [
    "imshow(out,title=[class_names[x] for x in classes])"
   ]
  },
  {
   "cell_type": "code",
   "execution_count": 62,
   "id": "4f94f9bf",
   "metadata": {},
   "outputs": [],
   "source": [
    "def train_model(model,criterion,optimizer,schedular,num_epochs=25):\n",
    "    since = time.time()\n",
    "    best_model_wts = copy.deepcopy(model.state_dict())\n",
    "    best_acc = 0.0\n",
    "    for epoch in range(num_epochs):\n",
    "        print('Epoch {}/{}'.format(epoch,num_epochs-1))\n",
    "        print('-'*10)\n",
    "        for phase in ['train','val']:\n",
    "            if phase == 'train':\n",
    "                model.train()\n",
    "            else:\n",
    "                model.eval()\n",
    "            running_loss = 0.0\n",
    "            running_corrects = 0\n",
    "            for inputs,labels in dataloaders[phase]:\n",
    "                inputs = inputs.to(device)\n",
    "                labels = labels.to(device)\n",
    "                # forword pass\n",
    "                with torch.set_grad_enabled(phase=='train'):\n",
    "                    outputs = model(inputs)\n",
    "                    _,preds = torch.max(outputs,1)\n",
    "                    loss = criterion(outputs,labels)\n",
    "                    #backwards\n",
    "                    if phase == 'train':\n",
    "                        optimizer.zero_grad()\n",
    "                        loss.backward()\n",
    "                        optimizer.step()\n",
    "                running_loss += loss.item()*inputs.size(0)\n",
    "                running_corrects += torch.sum(preds == labels.data)\n",
    "            if phase == 'train':\n",
    "                schedular.step()\n",
    "                epoch_loss = running_loss/dataset_size[phase]\n",
    "                epoch_acc = running_corrects.double()/dataset_size[phase]\n",
    "                print('{} Loss:{:.4f} Acc:{:.4f}'.format(phase,epoch_loss,epoch_acc))\n",
    "                if phase == 'val' and epoch_acc> best_acc:\n",
    "                    best_acc = epoch_acc\n",
    "                    best_model_wts = copy.deepcopy(model.state_dict())\n",
    "        print()\n",
    "    time_elapsed = time.time()-since\n",
    "    print('Training complet in {:.0f}.{:.0f}s'.format(time_elapsed//60,time_elapsed % 60))\n",
    "    print('Best val Acc:{:.4f}'.format(best_acc))\n",
    "    model.load_state_dict(best_model_wts)\n",
    "    return model"
   ]
  },
  {
   "cell_type": "code",
   "execution_count": 63,
   "id": "cad2626f",
   "metadata": {},
   "outputs": [],
   "source": [
    "model = models.resnet18(pretrained=True)"
   ]
  },
  {
   "cell_type": "code",
   "execution_count": 64,
   "id": "7ef69df4",
   "metadata": {},
   "outputs": [],
   "source": [
    "num_ftrs = model.fc.in_features"
   ]
  },
  {
   "cell_type": "code",
   "execution_count": 65,
   "id": "d7b679fe",
   "metadata": {},
   "outputs": [],
   "source": [
    "model.fc = nn.Linear(num_ftrs,2)"
   ]
  },
  {
   "cell_type": "code",
   "execution_count": 66,
   "id": "61f9a185",
   "metadata": {},
   "outputs": [],
   "source": [
    "model = model.to(device)"
   ]
  },
  {
   "cell_type": "code",
   "execution_count": 67,
   "id": "cd95837c",
   "metadata": {},
   "outputs": [],
   "source": [
    "criterion = nn.CrossEntropyLoss()"
   ]
  },
  {
   "cell_type": "code",
   "execution_count": 68,
   "id": "66f8cae1",
   "metadata": {},
   "outputs": [],
   "source": [
    "optimizer = optim.SGD(model.parameters(),lr=0.001)"
   ]
  },
  {
   "cell_type": "code",
   "execution_count": 69,
   "id": "6717fe0a",
   "metadata": {},
   "outputs": [],
   "source": [
    "from torch.optim import lr_scheduler"
   ]
  },
  {
   "cell_type": "code",
   "execution_count": 70,
   "id": "4cdbc58c",
   "metadata": {},
   "outputs": [],
   "source": [
    "step_lr_schedular = lr_scheduler.StepLR(optimizer,step_size=7,gamma=0.1)"
   ]
  },
  {
   "cell_type": "code",
   "execution_count": 71,
   "id": "48715e49",
   "metadata": {},
   "outputs": [
    {
     "name": "stdout",
     "output_type": "stream",
     "text": [
      "Epoch 0/24\n",
      "----------\n",
      "train Loss:0.6300 Acc:0.6516\n",
      "\n",
      "Epoch 1/24\n",
      "----------\n",
      "train Loss:0.5123 Acc:0.7295\n",
      "\n",
      "Epoch 2/24\n",
      "----------\n",
      "train Loss:0.4450 Acc:0.7787\n",
      "\n",
      "Epoch 3/24\n",
      "----------\n",
      "train Loss:0.4302 Acc:0.8156\n",
      "\n",
      "Epoch 4/24\n",
      "----------\n",
      "train Loss:0.4248 Acc:0.7992\n",
      "\n",
      "Epoch 5/24\n",
      "----------\n",
      "train Loss:0.3578 Acc:0.8279\n",
      "\n",
      "Epoch 6/24\n",
      "----------\n",
      "train Loss:0.4201 Acc:0.8033\n",
      "\n",
      "Epoch 7/24\n",
      "----------\n",
      "train Loss:0.4276 Acc:0.7951\n",
      "\n",
      "Epoch 8/24\n",
      "----------\n",
      "train Loss:0.3794 Acc:0.8361\n",
      "\n",
      "Epoch 9/24\n",
      "----------\n",
      "train Loss:0.3703 Acc:0.8443\n",
      "\n",
      "Epoch 10/24\n",
      "----------\n",
      "train Loss:0.3552 Acc:0.8689\n",
      "\n",
      "Epoch 11/24\n",
      "----------\n",
      "train Loss:0.3804 Acc:0.8361\n",
      "\n",
      "Epoch 12/24\n",
      "----------\n",
      "train Loss:0.3944 Acc:0.8115\n",
      "\n",
      "Epoch 13/24\n",
      "----------\n",
      "train Loss:0.3727 Acc:0.8320\n",
      "\n",
      "Epoch 14/24\n",
      "----------\n",
      "train Loss:0.3189 Acc:0.8689\n",
      "\n",
      "Epoch 15/24\n",
      "----------\n",
      "train Loss:0.3104 Acc:0.8770\n",
      "\n",
      "Epoch 16/24\n",
      "----------\n",
      "train Loss:0.4048 Acc:0.8197\n",
      "\n",
      "Epoch 17/24\n",
      "----------\n",
      "train Loss:0.3818 Acc:0.8402\n",
      "\n",
      "Epoch 18/24\n",
      "----------\n",
      "train Loss:0.3040 Acc:0.8607\n",
      "\n",
      "Epoch 19/24\n",
      "----------\n",
      "train Loss:0.3350 Acc:0.8689\n",
      "\n",
      "Epoch 20/24\n",
      "----------\n",
      "train Loss:0.3351 Acc:0.8525\n",
      "\n",
      "Epoch 21/24\n",
      "----------\n",
      "train Loss:0.3102 Acc:0.8648\n",
      "\n",
      "Epoch 22/24\n",
      "----------\n",
      "train Loss:0.3064 Acc:0.8730\n",
      "\n",
      "Epoch 23/24\n",
      "----------\n",
      "train Loss:0.3743 Acc:0.8689\n",
      "\n",
      "Epoch 24/24\n",
      "----------\n",
      "train Loss:0.2772 Acc:0.8975\n",
      "\n",
      "Training complet in 1.23s\n",
      "Best val Acc:0.0000\n"
     ]
    }
   ],
   "source": [
    "model = train_model(model,criterion,optimizer,step_lr_schedular,num_epochs=25)"
   ]
  },
  {
   "cell_type": "code",
   "execution_count": 72,
   "id": "75cf78aa",
   "metadata": {},
   "outputs": [
    {
     "name": "stdout",
     "output_type": "stream",
     "text": [
      "Epoch 0/24\n",
      "----------\n",
      "train Loss:0.6629 Acc:0.5943\n",
      "\n",
      "Epoch 1/24\n",
      "----------\n",
      "train Loss:0.5017 Acc:0.7541\n",
      "\n",
      "Epoch 2/24\n",
      "----------\n",
      "train Loss:0.4910 Acc:0.7746\n",
      "\n",
      "Epoch 3/24\n",
      "----------\n",
      "train Loss:0.4000 Acc:0.8238\n",
      "\n",
      "Epoch 4/24\n",
      "----------\n",
      "train Loss:0.4582 Acc:0.7705\n",
      "\n",
      "Epoch 5/24\n",
      "----------\n",
      "train Loss:0.4425 Acc:0.7828\n",
      "\n",
      "Epoch 6/24\n",
      "----------\n",
      "train Loss:0.3409 Acc:0.8730\n",
      "\n",
      "Epoch 7/24\n",
      "----------\n",
      "train Loss:0.3025 Acc:0.8770\n",
      "\n",
      "Epoch 8/24\n",
      "----------\n",
      "train Loss:0.3279 Acc:0.8566\n",
      "\n",
      "Epoch 9/24\n",
      "----------\n",
      "train Loss:0.4191 Acc:0.8033\n",
      "\n",
      "Epoch 10/24\n",
      "----------\n",
      "train Loss:0.3460 Acc:0.8607\n",
      "\n",
      "Epoch 11/24\n",
      "----------\n",
      "train Loss:0.2858 Acc:0.8811\n",
      "\n",
      "Epoch 12/24\n",
      "----------\n",
      "train Loss:0.3815 Acc:0.8115\n",
      "\n",
      "Epoch 13/24\n",
      "----------\n",
      "train Loss:0.3917 Acc:0.7992\n",
      "\n",
      "Epoch 14/24\n",
      "----------\n",
      "train Loss:0.3813 Acc:0.8361\n",
      "\n",
      "Epoch 15/24\n",
      "----------\n",
      "train Loss:0.3461 Acc:0.8361\n",
      "\n",
      "Epoch 16/24\n",
      "----------\n",
      "train Loss:0.3177 Acc:0.8566\n",
      "\n",
      "Epoch 17/24\n",
      "----------\n",
      "train Loss:0.3530 Acc:0.8361\n",
      "\n",
      "Epoch 18/24\n",
      "----------\n",
      "train Loss:0.3510 Acc:0.8443\n",
      "\n",
      "Epoch 19/24\n",
      "----------\n",
      "train Loss:0.3110 Acc:0.8770\n",
      "\n",
      "Epoch 20/24\n",
      "----------\n",
      "train Loss:0.3408 Acc:0.8566\n",
      "\n",
      "Epoch 21/24\n",
      "----------\n",
      "train Loss:0.3626 Acc:0.8238\n",
      "\n",
      "Epoch 22/24\n",
      "----------\n",
      "train Loss:0.3760 Acc:0.8484\n",
      "\n",
      "Epoch 23/24\n",
      "----------\n",
      "train Loss:0.4572 Acc:0.7746\n",
      "\n",
      "Epoch 24/24\n",
      "----------\n",
      "train Loss:0.3299 Acc:0.8648\n",
      "\n",
      "Training complet in 1.23s\n",
      "Best val Acc:0.0000\n"
     ]
    }
   ],
   "source": [
    "#### Finetuning the convnet ####\n",
    "# Load a pretrained model and reset final fully connected layer.\n",
    "\n",
    "model = models.resnet18(pretrained=True)\n",
    "num_ftrs = model.fc.in_features\n",
    "# Here the size of each output sample is set to 2.\n",
    "# Alternatively, it can be generalized to nn.Linear(num_ftrs, len(class_names)).\n",
    "model.fc = nn.Linear(num_ftrs, 2)\n",
    "\n",
    "model = model.to(device)\n",
    "\n",
    "criterion = nn.CrossEntropyLoss()\n",
    "\n",
    "# Observe that all parameters are being optimized\n",
    "optimizer = optim.SGD(model.parameters(), lr=0.001)\n",
    "\n",
    "# StepLR Decays the learning rate of each parameter group by gamma every step_size epochs\n",
    "# Decay LR by a factor of 0.1 every 7 epochs\n",
    "# Learning rate scheduling should be applied after optimizer’s update\n",
    "# e.g., you should write your code this way:\n",
    "# for epoch in range(100):\n",
    "#     train(...)\n",
    "#     validate(...)\n",
    "#     scheduler.step()\n",
    "\n",
    "step_lr_scheduler = lr_scheduler.StepLR(optimizer, step_size=7, gamma=0.1)\n",
    "\n",
    "model = train_model(model, criterion, optimizer, step_lr_scheduler, num_epochs=25)"
   ]
  },
  {
   "cell_type": "code",
   "execution_count": 73,
   "id": "34da5370",
   "metadata": {},
   "outputs": [
    {
     "name": "stdout",
     "output_type": "stream",
     "text": [
      "Epoch 0/24\n",
      "----------\n",
      "train Loss:0.6362 Acc:0.6680\n",
      "\n",
      "Epoch 1/24\n",
      "----------\n",
      "train Loss:0.4453 Acc:0.7746\n",
      "\n",
      "Epoch 2/24\n",
      "----------\n",
      "train Loss:0.5225 Acc:0.7418\n",
      "\n",
      "Epoch 3/24\n",
      "----------\n",
      "train Loss:0.5672 Acc:0.7623\n",
      "\n",
      "Epoch 4/24\n",
      "----------\n",
      "train Loss:0.5188 Acc:0.7951\n",
      "\n",
      "Epoch 5/24\n",
      "----------\n",
      "train Loss:0.5344 Acc:0.7910\n",
      "\n",
      "Epoch 6/24\n",
      "----------\n",
      "train Loss:0.4904 Acc:0.7869\n",
      "\n",
      "Epoch 7/24\n",
      "----------\n",
      "train Loss:0.3209 Acc:0.8607\n",
      "\n",
      "Epoch 8/24\n",
      "----------\n",
      "train Loss:0.3805 Acc:0.8402\n",
      "\n",
      "Epoch 9/24\n",
      "----------\n",
      "train Loss:0.3940 Acc:0.8525\n",
      "\n",
      "Epoch 10/24\n",
      "----------\n",
      "train Loss:0.3914 Acc:0.8197\n",
      "\n",
      "Epoch 11/24\n",
      "----------\n",
      "train Loss:0.3919 Acc:0.8238\n",
      "\n",
      "Epoch 12/24\n",
      "----------\n",
      "train Loss:0.3874 Acc:0.8238\n",
      "\n",
      "Epoch 13/24\n",
      "----------\n",
      "train Loss:0.4317 Acc:0.7992\n",
      "\n",
      "Epoch 14/24\n",
      "----------\n",
      "train Loss:0.3553 Acc:0.8443\n",
      "\n",
      "Epoch 15/24\n",
      "----------\n",
      "train Loss:0.3008 Acc:0.8648\n",
      "\n",
      "Epoch 16/24\n",
      "----------\n",
      "train Loss:0.3730 Acc:0.8279\n",
      "\n",
      "Epoch 17/24\n",
      "----------\n",
      "train Loss:0.2457 Acc:0.9057\n",
      "\n",
      "Epoch 18/24\n",
      "----------\n",
      "train Loss:0.3508 Acc:0.8238\n",
      "\n",
      "Epoch 19/24\n",
      "----------\n",
      "train Loss:0.2221 Acc:0.9139\n",
      "\n",
      "Epoch 20/24\n",
      "----------\n",
      "train Loss:0.3213 Acc:0.8648\n",
      "\n",
      "Epoch 21/24\n",
      "----------\n",
      "train Loss:0.3310 Acc:0.8607\n",
      "\n",
      "Epoch 22/24\n",
      "----------\n",
      "train Loss:0.3209 Acc:0.8566\n",
      "\n",
      "Epoch 23/24\n",
      "----------\n",
      "train Loss:0.3416 Acc:0.8361\n",
      "\n",
      "Epoch 24/24\n",
      "----------\n",
      "train Loss:0.4426 Acc:0.7869\n",
      "\n",
      "Training complet in 1.3s\n",
      "Best val Acc:0.0000\n"
     ]
    }
   ],
   "source": [
    "#### ConvNet as fixed feature extractor ####\n",
    "# Here, we need to freeze all the network except the final layer.\n",
    "# We need to set requires_grad == False to freeze the parameters so that the gradients are not computed in backward()\n",
    "model_conv = torchvision.models.resnet18(pretrained=True)\n",
    "for param in model_conv.parameters():\n",
    "    param.requires_grad = False\n",
    "\n",
    "# Parameters of newly constructed modules have requires_grad=True by default\n",
    "num_ftrs = model_conv.fc.in_features\n",
    "model_conv.fc = nn.Linear(num_ftrs, 2)\n",
    "\n",
    "model_conv = model_conv.to(device)\n",
    "\n",
    "criterion = nn.CrossEntropyLoss()\n",
    "\n",
    "# Observe that only parameters of final layer are being optimized as\n",
    "# opposed to before.\n",
    "optimizer_conv = optim.SGD(model_conv.fc.parameters(), lr=0.001, momentum=0.9)\n",
    "\n",
    "# Decay LR by a factor of 0.1 every 7 epochs\n",
    "exp_lr_scheduler = lr_scheduler.StepLR(optimizer_conv, step_size=7, gamma=0.1)\n",
    "\n",
    "model_conv = train_model(model_conv, criterion, optimizer_conv,\n",
    "                         exp_lr_scheduler, num_epochs=25)"
   ]
  },
  {
   "cell_type": "code",
   "execution_count": null,
   "id": "078b5cbe",
   "metadata": {},
   "outputs": [],
   "source": []
  }
 ],
 "metadata": {
  "kernelspec": {
   "display_name": "Python 3",
   "language": "python",
   "name": "python3"
  },
  "language_info": {
   "codemirror_mode": {
    "name": "ipython",
    "version": 3
   },
   "file_extension": ".py",
   "mimetype": "text/x-python",
   "name": "python",
   "nbconvert_exporter": "python",
   "pygments_lexer": "ipython3",
   "version": "3.6.13"
  }
 },
 "nbformat": 4,
 "nbformat_minor": 5
}
