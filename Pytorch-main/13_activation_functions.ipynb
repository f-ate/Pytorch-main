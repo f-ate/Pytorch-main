{
 "cells": [
  {
   "cell_type": "code",
   "execution_count": 1,
   "id": "48c3b535",
   "metadata": {},
   "outputs": [],
   "source": [
    "import torch\n",
    "import torch.nn as nn\n",
    "import torch.nn.functional as F"
   ]
  },
  {
   "cell_type": "code",
   "execution_count": 2,
   "id": "3fcc2684",
   "metadata": {},
   "outputs": [],
   "source": [
    "x = torch.tensor([-1.0,1.0,2.0,3.0])"
   ]
  },
  {
   "cell_type": "code",
   "execution_count": 3,
   "id": "a7b3050d",
   "metadata": {},
   "outputs": [],
   "source": [
    "# softmax\n",
    "output = torch.softmax(x,dim=0)"
   ]
  },
  {
   "cell_type": "code",
   "execution_count": 4,
   "id": "37fae287",
   "metadata": {},
   "outputs": [
    {
     "name": "stdout",
     "output_type": "stream",
     "text": [
      "tensor([0.0120, 0.0889, 0.2418, 0.6572])\n"
     ]
    }
   ],
   "source": [
    "print(output)"
   ]
  },
  {
   "cell_type": "code",
   "execution_count": 5,
   "id": "9783fec7",
   "metadata": {},
   "outputs": [
    {
     "name": "stdout",
     "output_type": "stream",
     "text": [
      "tensor([0.0120, 0.0889, 0.2418, 0.6572])\n"
     ]
    }
   ],
   "source": [
    "sm = nn.Softmax(dim=0)\n",
    "output = sm(x)\n",
    "print(output)"
   ]
  },
  {
   "cell_type": "code",
   "execution_count": 6,
   "id": "89c6e948",
   "metadata": {},
   "outputs": [
    {
     "name": "stdout",
     "output_type": "stream",
     "text": [
      "tensor([0.2689, 0.7311, 0.8808, 0.9526])\n",
      "tensor([0.2689, 0.7311, 0.8808, 0.9526])\n"
     ]
    }
   ],
   "source": [
    "# sigmoid\n",
    "output = torch.sigmoid(x)\n",
    "print(output)\n",
    "s = nn.Sigmoid()\n",
    "output = s(x)\n",
    "print(output)"
   ]
  },
  {
   "cell_type": "code",
   "execution_count": 7,
   "id": "43e9ad7d",
   "metadata": {},
   "outputs": [
    {
     "name": "stdout",
     "output_type": "stream",
     "text": [
      "tensor([-0.7616,  0.7616,  0.9640,  0.9951])\n",
      "tensor([-0.7616,  0.7616,  0.9640,  0.9951])\n"
     ]
    }
   ],
   "source": [
    "# tanh\n",
    "output = torch.tanh(x)\n",
    "print(output)\n",
    "t = nn.Tanh()\n",
    "output = t(x)\n",
    "print(output)"
   ]
  },
  {
   "cell_type": "code",
   "execution_count": 8,
   "id": "d0e6fd58",
   "metadata": {},
   "outputs": [
    {
     "name": "stdout",
     "output_type": "stream",
     "text": [
      "tensor([0., 1., 2., 3.])\n",
      "tensor([0., 1., 2., 3.])\n"
     ]
    }
   ],
   "source": [
    "# relu\n",
    "output = torch.relu(x)\n",
    "print(output)\n",
    "r = nn.ReLU()\n",
    "output = r(x)\n",
    "print(output)"
   ]
  },
  {
   "cell_type": "code",
   "execution_count": 9,
   "id": "a77683aa",
   "metadata": {},
   "outputs": [
    {
     "name": "stdout",
     "output_type": "stream",
     "text": [
      "tensor([-0.0100,  1.0000,  2.0000,  3.0000])\n",
      "tensor([-0.0100,  1.0000,  2.0000,  3.0000])\n"
     ]
    }
   ],
   "source": [
    "#leaky relu\n",
    "output = F.leaky_relu(x)\n",
    "print(output)\n",
    "lr = nn.LeakyReLU()\n",
    "output = lr(x)\n",
    "print(output)"
   ]
  },
  {
   "cell_type": "code",
   "execution_count": 10,
   "id": "92b63c80",
   "metadata": {},
   "outputs": [],
   "source": [
    "# plot Activation"
   ]
  },
  {
   "cell_type": "code",
   "execution_count": 11,
   "id": "e30eee50",
   "metadata": {},
   "outputs": [],
   "source": [
    "import numpy as np\n",
    "import matplotlib.pyplot as plt\n",
    "import seaborn as sns\n",
    "sns.set_style('whitegrid')"
   ]
  },
  {
   "cell_type": "code",
   "execution_count": 17,
   "id": "6724d03c",
   "metadata": {},
   "outputs": [
    {
     "data": {
      "image/png": "[encoded data removed]",
      "text/plain": [
       "<Figure size 432x288 with 1 Axes>"
      ]
     },
     "metadata": {},
     "output_type": "display_data"
    }
   ],
   "source": [
    "# Sigmoid\n",
    "sigmoid = lambda x: 1/(1+np.exp(-x))\n",
    "x = np.linspace(-10,10,10)\n",
    "y = np.linspace(-10,10,100)\n",
    "fig = plt.figure()\n",
    "plt.plot(y,sigmoid(y),'b',label='linspace(-10,10,100)')\n",
    "plt.grid(ls='--')\n",
    "plt.xlabel(\"X axis\")\n",
    "plt.ylabel(\"Y axis\")\n",
    "plt.title('Sigmoid func')\n",
    "plt.xticks([-4,-3,-2,-1,0,1,2,3,4])\n",
    "plt.yticks([-2,-1,0,1,2])\n",
    "plt.ylim(-2,2)\n",
    "plt.xlim(-4,4)\n",
    "plt.show()"
   ]
  },
  {
   "cell_type": "code",
   "execution_count": 19,
   "id": "d18ce96e",
   "metadata": {},
   "outputs": [
    {
     "data": {
      "image/png": "[encoded data removed]",
      "text/plain": [
       "<Figure size 432x288 with 1 Axes>"
      ]
     },
     "metadata": {},
     "output_type": "display_data"
    }
   ],
   "source": [
    "# tanh\n",
    "tanh = lambda x: 2*sigmoid(2*x)-1\n",
    "x = np.linspace(-10,10,10)\n",
    "y = np.linspace(-10,10,100)\n",
    "fig = plt.figure()\n",
    "plt.plot(y,tanh(y),'b',label='linspace(-10,10,100)')\n",
    "plt.grid(ls='--')\n",
    "plt.xlabel(\"X axis\")\n",
    "plt.ylabel(\"Y axis\")\n",
    "plt.title('tanh func')\n",
    "plt.xticks([-4,-3,-2,-1,0,1,2,3,4])\n",
    "plt.yticks([-2,-1,0,1,2])\n",
    "plt.ylim(-2,2)\n",
    "plt.xlim(-4,4)\n",
    "plt.show()"
   ]
  },
  {
   "cell_type": "code",
   "execution_count": 20,
   "id": "6126bdb7",
   "metadata": {},
   "outputs": [
    {
     "data": {
      "image/png": "[encoded data removed]",
      "text/plain": [
       "<Figure size 432x288 with 1 Axes>"
      ]
     },
     "metadata": {},
     "output_type": "display_data"
    }
   ],
   "source": [
    "# Relu\n",
    "relu = lambda x: np.where(x>=0,x,0)\n",
    "x = np.linspace(-10,10,10)\n",
    "y = np.linspace(-10,10,100)\n",
    "fig = plt.figure()\n",
    "plt.plot(y,relu(y),'b',label='linspace(-10,10,100)')\n",
    "plt.grid(ls='--')\n",
    "plt.xlabel(\"X axis\")\n",
    "plt.ylabel(\"Y axis\")\n",
    "plt.title('Sigmoid func')\n",
    "plt.xticks([-4,-3,-2,-1,0,1,2,3,4])\n",
    "plt.yticks([-2,-1,0,1,2])\n",
    "plt.ylim(-2,2)\n",
    "plt.xlim(-4,4)\n",
    "plt.show()"
   ]
  },
  {
   "cell_type": "code",
   "execution_count": null,
   "id": "4c27a16c",
   "metadata": {},
   "outputs": [],
   "source": [
    "# leaky Relu\n",
    "leakyrelu = lambda x: np.where(x>=0,x,0.1*x)\n",
    "x = np.linspace(-10,10,10)\n",
    "y = np.linspace(-10,10,100)\n",
    "fig = plt.figure()\n",
    "plt.plot(y,relu(y),'b',label='linspace(-10,10,100)')\n",
    "plt.grid(ls='--')\n",
    "plt.xlabel(\"X axis\")\n",
    "plt.ylabel(\"Y axis\")\n",
    "plt.title('Sigmoid func')\n",
    "plt.xticks([-4,-3,-2,-1,0,1,2,3,4])\n",
    "plt.yticks([-2,-1,0,1,2])\n",
    "plt.ylim(-2,2)\n",
    "plt.xlim(-4,4)\n",
    "plt.show()"
   ]
  }
 ],
 "metadata": {
  "kernelspec": {
   "display_name": "Python 3",
   "language": "python",
   "name": "python3"
  },
  "language_info": {
   "codemirror_mode": {
    "name": "ipython",
    "version": 3
   },
   "file_extension": ".py",
   "mimetype": "text/x-python",
   "name": "python",
   "nbconvert_exporter": "python",
   "pygments_lexer": "ipython3",
   "version": "3.6.13"
  }
 },
 "nbformat": 4,
 "nbformat_minor": 5
}
