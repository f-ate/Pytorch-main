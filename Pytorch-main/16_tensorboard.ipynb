{
 "cells": [
  {
   "cell_type": "code",
   "execution_count": 1,
   "id": "3c6b4ca7",
   "metadata": {},
   "outputs": [],
   "source": [
    "import torch\n",
    "import torch.nn as nn\n",
    "import torchvision\n",
    "import torchvision.transforms as transforms\n",
    "import matplotlib.pyplot as plt\n",
    "import sys\n",
    "import torch.nn.functional as F\n",
    "from torch.utils.tensorboard import SummaryWriter"
   ]
  },
  {
   "cell_type": "code",
   "execution_count": 2,
   "id": "0a7395fc",
   "metadata": {},
   "outputs": [],
   "source": [
    "writer = SummaryWriter('runs/mnist1')"
   ]
  },
  {
   "cell_type": "code",
   "execution_count": 3,
   "id": "57f211ee",
   "metadata": {},
   "outputs": [],
   "source": [
    "device = torch.device('cuda' if torch.cuda.is_available() else 'cpu')"
   ]
  },
  {
   "cell_type": "code",
   "execution_count": 47,
   "id": "0897a8a3",
   "metadata": {},
   "outputs": [],
   "source": [
    "input_size = 784\n",
    "hidden_size = 500\n",
    "num_classes = 10\n",
    "num_epochs = 10\n",
    "batch_size = 64\n",
    "learning_rate = 0.1\n"
   ]
  },
  {
   "cell_type": "code",
   "execution_count": 11,
   "id": "90977ee2",
   "metadata": {},
   "outputs": [
    {
     "name": "stderr",
     "output_type": "stream",
     "text": [
      "/home/aarav/anaconda3/envs/pract/lib/python3.6/site-packages/torchvision/datasets/mnist.py:498: UserWarning: The given NumPy array is not writeable, and PyTorch does not support non-writeable tensors. This means you can write to the underlying (supposedly non-writeable) NumPy array using the tensor. You may want to copy the array to protect its data or make it writeable before converting it to a tensor. This type of warning will be suppressed for the rest of this program. (Triggered internally at  /pytorch/torch/csrc/utils/tensor_numpy.cpp:180.)\n",
      "  return torch.from_numpy(parsed.astype(m[2], copy=False)).view(*s)\n"
     ]
    }
   ],
   "source": [
    "train_dataset = torchvision.datasets.MNIST(root='data',\n",
    "                                          train = True,\n",
    "                                          transform = transforms.ToTensor(),\n",
    "                                          download=True)\n",
    "test_dataset = torchvision.datasets.MNIST(root='data',\n",
    "                                          train = False,\n",
    "                                          transform = transforms.ToTensor(),\n",
    "                                          download=True)"
   ]
  },
  {
   "cell_type": "code",
   "execution_count": 12,
   "id": "3df5ec8e",
   "metadata": {},
   "outputs": [
    {
     "data": {
      "text/plain": [
       "Dataset MNIST\n",
       "    Number of datapoints: 60000\n",
       "    Root location: data\n",
       "    Split: Train\n",
       "    StandardTransform\n",
       "Transform: ToTensor()"
      ]
     },
     "execution_count": 12,
     "metadata": {},
     "output_type": "execute_result"
    }
   ],
   "source": [
    "train_dataset"
   ]
  },
  {
   "cell_type": "code",
   "execution_count": 13,
   "id": "83b7bd06",
   "metadata": {},
   "outputs": [
    {
     "data": {
      "text/plain": [
       "Dataset MNIST\n",
       "    Number of datapoints: 10000\n",
       "    Root location: data\n",
       "    Split: Test\n",
       "    StandardTransform\n",
       "Transform: ToTensor()"
      ]
     },
     "execution_count": 13,
     "metadata": {},
     "output_type": "execute_result"
    }
   ],
   "source": [
    "test_dataset"
   ]
  },
  {
   "cell_type": "code",
   "execution_count": 14,
   "id": "4ea4c6f6",
   "metadata": {},
   "outputs": [],
   "source": [
    "train_loader = torch.utils.data.DataLoader(dataset = train_dataset,\n",
    "                                          batch_size = batch_size,\n",
    "                                          shuffle = True)\n",
    "test_loader = torch.utils.data.DataLoader(dataset= test_dataset,\n",
    "                                         batch_size = batch_size,\n",
    "                                         shuffle = False)"
   ]
  },
  {
   "cell_type": "code",
   "execution_count": 15,
   "id": "8b7423f0",
   "metadata": {},
   "outputs": [],
   "source": [
    "examples = iter(test_loader)\n",
    "example_data,example_targets = examples.next()"
   ]
  },
  {
   "cell_type": "code",
   "execution_count": 17,
   "id": "ca7c8d95",
   "metadata": {},
   "outputs": [
    {
     "data": {
      "text/plain": [
       "torch.Size([64, 1, 28, 28])"
      ]
     },
     "execution_count": 17,
     "metadata": {},
     "output_type": "execute_result"
    }
   ],
   "source": [
    "example_data.shape"
   ]
  },
  {
   "cell_type": "code",
   "execution_count": 18,
   "id": "b7f1b3ec",
   "metadata": {},
   "outputs": [
    {
     "data": {
      "text/plain": [
       "tensor([7, 2, 1, 0, 4, 1, 4, 9, 5, 9, 0, 6, 9, 0, 1, 5, 9, 7, 3, 4, 9, 6, 6, 5,\n",
       "        4, 0, 7, 4, 0, 1, 3, 1, 3, 4, 7, 2, 7, 1, 2, 1, 1, 7, 4, 2, 3, 5, 1, 2,\n",
       "        4, 4, 6, 3, 5, 5, 6, 0, 4, 1, 9, 5, 7, 8, 9, 3])"
      ]
     },
     "execution_count": 18,
     "metadata": {},
     "output_type": "execute_result"
    }
   ],
   "source": [
    "example_targets"
   ]
  },
  {
   "cell_type": "code",
   "execution_count": 20,
   "id": "6c085ecd",
   "metadata": {},
   "outputs": [
    {
     "data": {
      "image/png": "[encoded data removed]",
      "text/plain": [
       "<Figure size 432x288 with 6 Axes>"
      ]
     },
     "metadata": {
      "needs_background": "light"
     },
     "output_type": "display_data"
    }
   ],
   "source": [
    "for i in range(6):\n",
    "    plt.subplot(2,3,i+1)\n",
    "    plt.imshow(example_data[i][0],cmap='gray_r')\n",
    "plt.show()"
   ]
  },
  {
   "cell_type": "code",
   "execution_count": 21,
   "id": "85976fbc",
   "metadata": {},
   "outputs": [],
   "source": [
    "img_grid = torchvision.utils.make_grid(example_data)"
   ]
  },
  {
   "cell_type": "code",
   "execution_count": 22,
   "id": "98ceab21",
   "metadata": {},
   "outputs": [],
   "source": [
    "writer.add_image('mnist_images',img_grid)"
   ]
  },
  {
   "cell_type": "code",
   "execution_count": 34,
   "id": "d08136ed",
   "metadata": {},
   "outputs": [
    {
     "ename": "SystemExit",
     "evalue": "",
     "output_type": "error",
     "traceback": [
      "An exception has occurred, use %tb to see the full traceback.\n",
      "\u001b[0;31mSystemExit\u001b[0m\n"
     ]
    },
    {
     "name": "stderr",
     "output_type": "stream",
     "text": [
      "/home/aarav/anaconda3/envs/pract/lib/python3.6/site-packages/IPython/core/interactiveshell.py:3351: UserWarning: To exit: use 'exit', 'quit', or Ctrl-D.\n",
      "  warn(\"To exit: use 'exit', 'quit', or Ctrl-D.\", stacklevel=1)\n"
     ]
    }
   ],
   "source": [
    "writer.close()\n",
    "sys.exit()"
   ]
  },
  {
   "cell_type": "code",
   "execution_count": 32,
   "id": "db301189",
   "metadata": {},
   "outputs": [
    {
     "name": "stdout",
     "output_type": "stream",
     "text": [
      "2022-07-01 11:51:38.918818: I tensorflow/stream_executor/cuda/cuda_gpu_executor.cc:937] successful NUMA node read from SysFS had negative value (-1), but there must be at least one NUMA node, so returning NUMA node zero\n",
      "2022-07-01 11:51:38.971787: I tensorflow/stream_executor/cuda/cuda_gpu_executor.cc:937] successful NUMA node read from SysFS had negative value (-1), but there must be at least one NUMA node, so returning NUMA node zero\n",
      "2022-07-01 11:51:38.972023: I tensorflow/stream_executor/cuda/cuda_gpu_executor.cc:937] successful NUMA node read from SysFS had negative value (-1), but there must be at least one NUMA node, so returning NUMA node zero\n",
      "\n",
      "NOTE: Using experimental fast data loading logic. To disable, pass\n",
      "    \"--load_fast=false\" and report issues on GitHub. More details:\n",
      "    https://github.com/tensorflow/tensorboard/issues/4784\n",
      "\n",
      "Serving TensorBoard on localhost; to expose to the network, use a proxy or pass --bind_all\n",
      "TensorBoard 2.6.0 at http://localhost:6006/ (Press CTRL+C to quit)\n",
      "^C\n"
     ]
    }
   ],
   "source": [
    "!tensorboard --logdir runs/mnist1\n"
   ]
  },
  {
   "cell_type": "code",
   "execution_count": 28,
   "id": "587cf790",
   "metadata": {},
   "outputs": [],
   "source": [
    "class NeuralNet(nn.Module):\n",
    "    def __init__(self,input_size,hidden_size,num_classes):\n",
    "        super(NeuralNet,self).__init__()\n",
    "        self.input_size = input_size\n",
    "        self.l1 = nn.Linear(input_size,hidden_size)\n",
    "        self.relu = nn.ReLU()\n",
    "        self.l2 = nn.Linear(hidden_size,num_classes)\n",
    "    def forward(self,x):\n",
    "        out = self.l1(x)\n",
    "        out = self.relu(out)\n",
    "        out = self.l2(out)\n",
    "        return out"
   ]
  },
  {
   "cell_type": "code",
   "execution_count": 29,
   "id": "f26219ee",
   "metadata": {},
   "outputs": [],
   "source": [
    "model = NeuralNet(input_size,hidden_size,num_classes).to(device)"
   ]
  },
  {
   "cell_type": "code",
   "execution_count": 35,
   "id": "84e5fc02",
   "metadata": {},
   "outputs": [],
   "source": [
    "criterion = nn.CrossEntropyLoss()\n",
    "optimizer = torch.optim.Adam(model.parameters(),lr=learning_rate)\n",
    "example_data = example_data.to(device)\n",
    "writer.add_graph(model,example_data.reshape(-1,28*28))"
   ]
  },
  {
   "cell_type": "code",
   "execution_count": 36,
   "id": "15fce957",
   "metadata": {},
   "outputs": [
    {
     "name": "stdout",
     "output_type": "stream",
     "text": [
      "2022-07-01 11:53:23.037413: I tensorflow/stream_executor/cuda/cuda_gpu_executor.cc:937] successful NUMA node read from SysFS had negative value (-1), but there must be at least one NUMA node, so returning NUMA node zero\n",
      "2022-07-01 11:53:23.061125: I tensorflow/stream_executor/cuda/cuda_gpu_executor.cc:937] successful NUMA node read from SysFS had negative value (-1), but there must be at least one NUMA node, so returning NUMA node zero\n",
      "2022-07-01 11:53:23.061388: I tensorflow/stream_executor/cuda/cuda_gpu_executor.cc:937] successful NUMA node read from SysFS had negative value (-1), but there must be at least one NUMA node, so returning NUMA node zero\n",
      "\n",
      "NOTE: Using experimental fast data loading logic. To disable, pass\n",
      "    \"--load_fast=false\" and report issues on GitHub. More details:\n",
      "    https://github.com/tensorflow/tensorboard/issues/4784\n",
      "\n",
      "Serving TensorBoard on localhost; to expose to the network, use a proxy or pass --bind_all\n",
      "TensorBoard 2.6.0 at http://localhost:6006/ (Press CTRL+C to quit)\n",
      "^C\n"
     ]
    }
   ],
   "source": [
    "!tensorboard --logdir runs/mnist1"
   ]
  },
  {
   "cell_type": "code",
   "execution_count": 41,
   "id": "efc1754b",
   "metadata": {},
   "outputs": [],
   "source": [
    "running_loss = 0.0\n",
    "running_corect = 0\n",
    "n_total_steps = len(test_loader)"
   ]
  },
  {
   "cell_type": "code",
   "execution_count": 48,
   "id": "ac086c94",
   "metadata": {},
   "outputs": [
    {
     "name": "stdout",
     "output_type": "stream",
     "text": [
      "epoch[1/10],step[100/157],Loss:2.3238\n",
      "epoch[1/10],step[200/157],Loss:2.3058\n",
      "epoch[1/10],step[300/157],Loss:2.3080\n",
      "epoch[1/10],step[400/157],Loss:2.3054\n",
      "epoch[1/10],step[500/157],Loss:2.3130\n",
      "epoch[1/10],step[600/157],Loss:2.3164\n",
      "epoch[1/10],step[700/157],Loss:2.3168\n",
      "epoch[1/10],step[800/157],Loss:2.3088\n",
      "epoch[1/10],step[900/157],Loss:2.3176\n",
      "epoch[2/10],step[100/157],Loss:2.3137\n",
      "epoch[2/10],step[200/157],Loss:2.3098\n",
      "epoch[2/10],step[300/157],Loss:2.3149\n",
      "epoch[2/10],step[400/157],Loss:2.3097\n",
      "epoch[2/10],step[500/157],Loss:2.3095\n",
      "epoch[2/10],step[600/157],Loss:2.3132\n",
      "epoch[2/10],step[700/157],Loss:2.3043\n",
      "epoch[2/10],step[800/157],Loss:2.3171\n",
      "epoch[2/10],step[900/157],Loss:2.3106\n",
      "epoch[3/10],step[100/157],Loss:2.3167\n",
      "epoch[3/10],step[200/157],Loss:2.3047\n",
      "epoch[3/10],step[300/157],Loss:2.3143\n",
      "epoch[3/10],step[400/157],Loss:2.3121\n",
      "epoch[3/10],step[500/157],Loss:2.3137\n",
      "epoch[3/10],step[600/157],Loss:2.3223\n",
      "epoch[3/10],step[700/157],Loss:2.3056\n",
      "epoch[3/10],step[800/157],Loss:2.3049\n",
      "epoch[3/10],step[900/157],Loss:2.3144\n",
      "epoch[4/10],step[100/157],Loss:2.3065\n",
      "epoch[4/10],step[200/157],Loss:2.3133\n",
      "epoch[4/10],step[300/157],Loss:2.3140\n",
      "epoch[4/10],step[400/157],Loss:2.3134\n",
      "epoch[4/10],step[500/157],Loss:2.3156\n",
      "epoch[4/10],step[600/157],Loss:2.3034\n",
      "epoch[4/10],step[700/157],Loss:2.3203\n",
      "epoch[4/10],step[800/157],Loss:2.3101\n",
      "epoch[4/10],step[900/157],Loss:2.3208\n",
      "epoch[5/10],step[100/157],Loss:2.3142\n",
      "epoch[5/10],step[200/157],Loss:2.3167\n",
      "epoch[5/10],step[300/157],Loss:2.3283\n",
      "epoch[5/10],step[400/157],Loss:2.3167\n",
      "epoch[5/10],step[500/157],Loss:2.3228\n",
      "epoch[5/10],step[600/157],Loss:2.3220\n",
      "epoch[5/10],step[700/157],Loss:2.3343\n",
      "epoch[5/10],step[800/157],Loss:2.3090\n",
      "epoch[5/10],step[900/157],Loss:2.3125\n",
      "epoch[6/10],step[100/157],Loss:2.3240\n",
      "epoch[6/10],step[200/157],Loss:2.2982\n",
      "epoch[6/10],step[300/157],Loss:2.3285\n",
      "epoch[6/10],step[400/157],Loss:2.3120\n",
      "epoch[6/10],step[500/157],Loss:2.3055\n",
      "epoch[6/10],step[600/157],Loss:2.3082\n",
      "epoch[6/10],step[700/157],Loss:2.3206\n",
      "epoch[6/10],step[800/157],Loss:2.3172\n",
      "epoch[6/10],step[900/157],Loss:2.3034\n",
      "epoch[7/10],step[100/157],Loss:2.3345\n",
      "epoch[7/10],step[200/157],Loss:2.3205\n",
      "epoch[7/10],step[300/157],Loss:2.3168\n",
      "epoch[7/10],step[400/157],Loss:2.3331\n",
      "epoch[7/10],step[500/157],Loss:2.3060\n",
      "epoch[7/10],step[600/157],Loss:2.3173\n",
      "epoch[7/10],step[700/157],Loss:2.3087\n",
      "epoch[7/10],step[800/157],Loss:2.3074\n",
      "epoch[7/10],step[900/157],Loss:2.2998\n",
      "epoch[8/10],step[100/157],Loss:2.3179\n",
      "epoch[8/10],step[200/157],Loss:2.3209\n",
      "epoch[8/10],step[300/157],Loss:2.3251\n",
      "epoch[8/10],step[400/157],Loss:2.3086\n",
      "epoch[8/10],step[500/157],Loss:2.3235\n",
      "epoch[8/10],step[600/157],Loss:2.3109\n",
      "epoch[8/10],step[700/157],Loss:2.3172\n",
      "epoch[8/10],step[800/157],Loss:2.3100\n",
      "epoch[8/10],step[900/157],Loss:2.3204\n",
      "epoch[9/10],step[100/157],Loss:2.3270\n",
      "epoch[9/10],step[200/157],Loss:2.3222\n",
      "epoch[9/10],step[300/157],Loss:2.3202\n",
      "epoch[9/10],step[400/157],Loss:2.3147\n",
      "epoch[9/10],step[500/157],Loss:2.3185\n",
      "epoch[9/10],step[600/157],Loss:2.3181\n",
      "epoch[9/10],step[700/157],Loss:2.3073\n",
      "epoch[9/10],step[800/157],Loss:2.3178\n",
      "epoch[9/10],step[900/157],Loss:2.3084\n",
      "epoch[10/10],step[100/157],Loss:2.3136\n",
      "epoch[10/10],step[200/157],Loss:2.3084\n",
      "epoch[10/10],step[300/157],Loss:2.3114\n",
      "epoch[10/10],step[400/157],Loss:2.3076\n",
      "epoch[10/10],step[500/157],Loss:2.3126\n",
      "epoch[10/10],step[600/157],Loss:2.3033\n",
      "epoch[10/10],step[700/157],Loss:2.3110\n",
      "epoch[10/10],step[800/157],Loss:2.3087\n",
      "epoch[10/10],step[900/157],Loss:2.3156\n"
     ]
    }
   ],
   "source": [
    "for epoch in range(num_epochs):\n",
    "    for i,(image,labels) in enumerate(train_loader):\n",
    "        image = image.reshape(-1,28*28).to(device)\n",
    "        labels = labels.to(device)\n",
    "        outputs = model(image)\n",
    "        loss = criterion(outputs,labels)\n",
    "        optimizer.zero_grad()\n",
    "        running_loss += loss.item()\n",
    "        _,predicted = torch.max(outputs.data ,1)\n",
    "        running_corect += (predicted==labels).sum().item()\n",
    "        if (i+1) % 100 == 0:\n",
    "            print(f'epoch[{epoch+1}/{num_epochs}],step[{i+1}/{n_taotal_steps}],Loss:{loss.item():.4f}')\n",
    "            writer.add_scalar('training loss',running_loss/100,epoch*n_total_steps+i)\n",
    "            running_accuracy = running_corect/100/predicted.size(0)\n",
    "            writer.add_scalar('accuracy', running_accuracy, epoch * n_total_steps + i)\n",
    "            running_correct = 0\n",
    "            running_loss = 0.0"
   ]
  },
  {
   "cell_type": "code",
   "execution_count": 46,
   "id": "45f66dc6",
   "metadata": {},
   "outputs": [
    {
     "name": "stdout",
     "output_type": "stream",
     "text": [
      "2022-07-01 12:08:28.925332: I tensorflow/stream_executor/cuda/cuda_gpu_executor.cc:937] successful NUMA node read from SysFS had negative value (-1), but there must be at least one NUMA node, so returning NUMA node zero\n",
      "2022-07-01 12:08:28.947211: I tensorflow/stream_executor/cuda/cuda_gpu_executor.cc:937] successful NUMA node read from SysFS had negative value (-1), but there must be at least one NUMA node, so returning NUMA node zero\n",
      "2022-07-01 12:08:28.947387: I tensorflow/stream_executor/cuda/cuda_gpu_executor.cc:937] successful NUMA node read from SysFS had negative value (-1), but there must be at least one NUMA node, so returning NUMA node zero\n",
      "\n",
      "NOTE: Using experimental fast data loading logic. To disable, pass\n",
      "    \"--load_fast=false\" and report issues on GitHub. More details:\n",
      "    https://github.com/tensorflow/tensorboard/issues/4784\n",
      "\n",
      "Serving TensorBoard on localhost; to expose to the network, use a proxy or pass --bind_all\n",
      "TensorBoard 2.6.0 at http://localhost:6006/ (Press CTRL+C to quit)\n",
      "^C\n"
     ]
    }
   ],
   "source": [
    "!tensorboard --logdir runs/mnist1"
   ]
  },
  {
   "cell_type": "code",
   "execution_count": null,
   "id": "90b1a7f6",
   "metadata": {},
   "outputs": [],
   "source": []
  }
 ],
 "metadata": {
  "kernelspec": {
   "display_name": "Python 3",
   "language": "python",
   "name": "python3"
  },
  "language_info": {
   "codemirror_mode": {
    "name": "ipython",
    "version": 3
   },
   "file_extension": ".py",
   "mimetype": "text/x-python",
   "name": "python",
   "nbconvert_exporter": "python",
   "pygments_lexer": "ipython3",
   "version": "3.6.13"
  }
 },
 "nbformat": 4,
 "nbformat_minor": 5
}
