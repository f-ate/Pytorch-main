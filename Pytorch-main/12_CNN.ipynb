{
 "cells": [
  {
   "cell_type": "code",
   "execution_count": 1,
   "id": "cd9840de",
   "metadata": {},
   "outputs": [],
   "source": [
    "import torch\n",
    "import torch.nn as nn\n",
    "import torch.nn.functional as F\n",
    "import torchvision\n",
    "import torchvision.transforms as transforms\n",
    "import matplotlib.pyplot as plt\n",
    "import numpy as np"
   ]
  },
  {
   "cell_type": "code",
   "execution_count": 2,
   "id": "90e235b1",
   "metadata": {},
   "outputs": [],
   "source": [
    "device = torch.device('cuda' if torch.cuda.is_available() else 'cpu')"
   ]
  },
  {
   "cell_type": "code",
   "execution_count": 3,
   "id": "893df0b4",
   "metadata": {},
   "outputs": [
    {
     "data": {
      "text/plain": [
       "device(type='cuda')"
      ]
     },
     "execution_count": 3,
     "metadata": {},
     "output_type": "execute_result"
    }
   ],
   "source": [
    "device"
   ]
  },
  {
   "cell_type": "code",
   "execution_count": 4,
   "id": "72d5a6e6",
   "metadata": {},
   "outputs": [],
   "source": [
    "#hpyerparameters\n",
    "num_epochs = 10\n",
    "batch_size = 4\n",
    "learning_rate =0.001"
   ]
  },
  {
   "cell_type": "code",
   "execution_count": 5,
   "id": "963fda14",
   "metadata": {},
   "outputs": [],
   "source": [
    "transform = transforms.Compose(\n",
    "[transforms.ToTensor(),\n",
    "transforms.Normalize((0.5,0.5,0.5),(0.5,0.5,0.5))])"
   ]
  },
  {
   "cell_type": "code",
   "execution_count": 6,
   "id": "c78f7390",
   "metadata": {},
   "outputs": [
    {
     "name": "stdout",
     "output_type": "stream",
     "text": [
      "Files already downloaded and verified\n"
     ]
    }
   ],
   "source": [
    "train_dataset = torchvision.datasets.CIFAR10(root='data',\n",
    "                                            train=True,\n",
    "                                            download=True,\n",
    "                                            transform=transform)"
   ]
  },
  {
   "cell_type": "code",
   "execution_count": 7,
   "id": "3488b47a",
   "metadata": {},
   "outputs": [
    {
     "name": "stdout",
     "output_type": "stream",
     "text": [
      "Files already downloaded and verified\n"
     ]
    }
   ],
   "source": [
    "test_dataset = torchvision.datasets.CIFAR10(root='data',\n",
    "                                            train=False,\n",
    "                                            download=True,\n",
    "                                            transform=transform)"
   ]
  },
  {
   "cell_type": "code",
   "execution_count": 8,
   "id": "f1219642",
   "metadata": {},
   "outputs": [
    {
     "data": {
      "text/plain": [
       "Dataset CIFAR10\n",
       "    Number of datapoints: 50000\n",
       "    Root location: data\n",
       "    Split: Train\n",
       "    StandardTransform\n",
       "Transform: Compose(\n",
       "               ToTensor()\n",
       "               Normalize(mean=(0.5, 0.5, 0.5), std=(0.5, 0.5, 0.5))\n",
       "           )"
      ]
     },
     "execution_count": 8,
     "metadata": {},
     "output_type": "execute_result"
    }
   ],
   "source": [
    "train_dataset"
   ]
  },
  {
   "cell_type": "code",
   "execution_count": 9,
   "id": "02bb5f81",
   "metadata": {},
   "outputs": [],
   "source": [
    "train_loader = torch.utils.data.DataLoader(dataset=train_dataset,\n",
    "                                          batch_size=batch_size,\n",
    "                                          shuffle=True)"
   ]
  },
  {
   "cell_type": "code",
   "execution_count": 10,
   "id": "d2f61d67",
   "metadata": {},
   "outputs": [
    {
     "data": {
      "text/plain": [
       "torch.Size([4, 3, 32, 32])"
      ]
     },
     "execution_count": 10,
     "metadata": {},
     "output_type": "execute_result"
    }
   ],
   "source": [
    "examples = iter(train_loader)\n",
    "samples ,labels = examples.next()\n",
    "samples.shape"
   ]
  },
  {
   "cell_type": "code",
   "execution_count": 11,
   "id": "e3ca3c97",
   "metadata": {},
   "outputs": [],
   "source": [
    "test_loader = torch.utils.data.DataLoader(dataset=test_dataset,\n",
    "                                         batch_size = batch_size,\n",
    "                                         shuffle = False)"
   ]
  },
  {
   "cell_type": "code",
   "execution_count": 12,
   "id": "50019bc6",
   "metadata": {},
   "outputs": [],
   "source": [
    "classes = ('plane','car','bird','cat','deer','dog','frog','horse','ship','truck')"
   ]
  },
  {
   "cell_type": "code",
   "execution_count": 13,
   "id": "2b2ad313",
   "metadata": {},
   "outputs": [
    {
     "data": {
      "text/plain": [
       "('plane',\n",
       " 'car',\n",
       " 'bird',\n",
       " 'cat',\n",
       " 'deer',\n",
       " 'dog',\n",
       " 'frog',\n",
       " 'horse',\n",
       " 'ship',\n",
       " 'truck')"
      ]
     },
     "execution_count": 13,
     "metadata": {},
     "output_type": "execute_result"
    }
   ],
   "source": [
    "classes"
   ]
  },
  {
   "cell_type": "code",
   "execution_count": 14,
   "id": "c31e8102",
   "metadata": {},
   "outputs": [],
   "source": [
    "class ConvNet(nn.Module):\n",
    "    def __init__(self):\n",
    "        super(ConvNet,self).__init__()\n",
    "        self.conv1 = nn.Conv2d(3,6,5)\n",
    "        self.pool = nn.MaxPool2d(2,2)\n",
    "        self.conv2 = nn.Conv2d(6,16,5)\n",
    "        self.fc1 = nn.Linear(16*5*5,120)\n",
    "        self.fc2 = nn.Linear(120,84)\n",
    "        self.fc3 = nn.Linear(84,10)\n",
    "    def forward(self,x):\n",
    "        x = self.pool(F.relu(self.conv1(x)))\n",
    "        x = self.pool(F.relu(self.conv2(x)))\n",
    "        x = x.view(-1,16*5*5)\n",
    "        x = F.relu(self.fc1(x))\n",
    "        x = F.relu(self.fc2(x))\n",
    "        x = self.fc3(x)\n",
    "        return x"
   ]
  },
  {
   "cell_type": "code",
   "execution_count": 15,
   "id": "36aa74be",
   "metadata": {},
   "outputs": [],
   "source": [
    "model = ConvNet().to(device)"
   ]
  },
  {
   "cell_type": "code",
   "execution_count": 16,
   "id": "70a0868a",
   "metadata": {},
   "outputs": [
    {
     "data": {
      "text/plain": [
       "ConvNet(\n",
       "  (conv1): Conv2d(3, 6, kernel_size=(5, 5), stride=(1, 1))\n",
       "  (pool): MaxPool2d(kernel_size=2, stride=2, padding=0, dilation=1, ceil_mode=False)\n",
       "  (conv2): Conv2d(6, 16, kernel_size=(5, 5), stride=(1, 1))\n",
       "  (fc1): Linear(in_features=400, out_features=120, bias=True)\n",
       "  (fc2): Linear(in_features=120, out_features=84, bias=True)\n",
       "  (fc3): Linear(in_features=84, out_features=10, bias=True)\n",
       ")"
      ]
     },
     "execution_count": 16,
     "metadata": {},
     "output_type": "execute_result"
    }
   ],
   "source": [
    "model"
   ]
  },
  {
   "cell_type": "code",
   "execution_count": 17,
   "id": "b37430df",
   "metadata": {},
   "outputs": [],
   "source": [
    "criterion = nn.CrossEntropyLoss()\n",
    "optimizer = torch.optim.SGD(model.parameters(),lr=learning_rate)"
   ]
  },
  {
   "cell_type": "code",
   "execution_count": 18,
   "id": "30769244",
   "metadata": {},
   "outputs": [
    {
     "name": "stderr",
     "output_type": "stream",
     "text": [
      "/home/aarav/anaconda3/envs/pract/lib/python3.6/site-packages/torch/nn/functional.py:718: UserWarning: Named tensors and all their associated APIs are an experimental feature and subject to change. Please do not use them for anything important until they are released as stable. (Triggered internally at  /pytorch/c10/core/TensorImpl.h:1156.)\n",
      "  return torch.max_pool2d(input, kernel_size, stride, padding, dilation, ceil_mode)\n"
     ]
    },
    {
     "name": "stdout",
     "output_type": "stream",
     "text": [
      "Epoch [1/10],step [2000/12500],loss: 2.3019\n",
      "Epoch [1/10],step [4000/12500],loss: 2.3201\n",
      "Epoch [1/10],step [6000/12500],loss: 2.3136\n",
      "Epoch [1/10],step [8000/12500],loss: 2.3079\n",
      "Epoch [1/10],step [10000/12500],loss: 2.2785\n",
      "Epoch [1/10],step [12000/12500],loss: 2.2535\n",
      "Epoch [2/10],step [2000/12500],loss: 2.2977\n",
      "Epoch [2/10],step [4000/12500],loss: 2.4172\n",
      "Epoch [2/10],step [6000/12500],loss: 2.6305\n",
      "Epoch [2/10],step [8000/12500],loss: 2.6099\n",
      "Epoch [2/10],step [10000/12500],loss: 2.0368\n",
      "Epoch [2/10],step [12000/12500],loss: 2.4109\n",
      "Epoch [3/10],step [2000/12500],loss: 1.4925\n",
      "Epoch [3/10],step [4000/12500],loss: 2.0357\n",
      "Epoch [3/10],step [6000/12500],loss: 1.3877\n",
      "Epoch [3/10],step [8000/12500],loss: 1.8020\n",
      "Epoch [3/10],step [10000/12500],loss: 1.7994\n",
      "Epoch [3/10],step [12000/12500],loss: 1.2705\n",
      "Epoch [4/10],step [2000/12500],loss: 1.2982\n",
      "Epoch [4/10],step [4000/12500],loss: 1.9629\n",
      "Epoch [4/10],step [6000/12500],loss: 1.3663\n",
      "Epoch [4/10],step [8000/12500],loss: 1.2017\n",
      "Epoch [4/10],step [10000/12500],loss: 1.4978\n",
      "Epoch [4/10],step [12000/12500],loss: 1.0341\n",
      "Epoch [5/10],step [2000/12500],loss: 1.1743\n",
      "Epoch [5/10],step [4000/12500],loss: 1.9499\n",
      "Epoch [5/10],step [6000/12500],loss: 0.6443\n",
      "Epoch [5/10],step [8000/12500],loss: 0.9828\n",
      "Epoch [5/10],step [10000/12500],loss: 1.4306\n",
      "Epoch [5/10],step [12000/12500],loss: 1.6916\n",
      "Epoch [6/10],step [2000/12500],loss: 0.5957\n",
      "Epoch [6/10],step [4000/12500],loss: 2.0804\n",
      "Epoch [6/10],step [6000/12500],loss: 0.9595\n",
      "Epoch [6/10],step [8000/12500],loss: 1.5520\n",
      "Epoch [6/10],step [10000/12500],loss: 1.5479\n",
      "Epoch [6/10],step [12000/12500],loss: 0.7089\n",
      "Epoch [7/10],step [2000/12500],loss: 0.5811\n",
      "Epoch [7/10],step [4000/12500],loss: 1.0338\n",
      "Epoch [7/10],step [6000/12500],loss: 0.9049\n",
      "Epoch [7/10],step [8000/12500],loss: 0.8412\n",
      "Epoch [7/10],step [10000/12500],loss: 1.2674\n",
      "Epoch [7/10],step [12000/12500],loss: 1.7342\n",
      "Epoch [8/10],step [2000/12500],loss: 1.5623\n",
      "Epoch [8/10],step [4000/12500],loss: 1.2481\n",
      "Epoch [8/10],step [6000/12500],loss: 2.0763\n",
      "Epoch [8/10],step [8000/12500],loss: 1.9415\n",
      "Epoch [8/10],step [10000/12500],loss: 1.3438\n",
      "Epoch [8/10],step [12000/12500],loss: 1.5137\n",
      "Epoch [9/10],step [2000/12500],loss: 1.8613\n",
      "Epoch [9/10],step [4000/12500],loss: 0.6511\n",
      "Epoch [9/10],step [6000/12500],loss: 2.0419\n",
      "Epoch [9/10],step [8000/12500],loss: 2.2772\n",
      "Epoch [9/10],step [10000/12500],loss: 0.4892\n",
      "Epoch [9/10],step [12000/12500],loss: 1.4427\n",
      "Epoch [10/10],step [2000/12500],loss: 1.7951\n",
      "Epoch [10/10],step [4000/12500],loss: 1.3340\n",
      "Epoch [10/10],step [6000/12500],loss: 1.6748\n",
      "Epoch [10/10],step [8000/12500],loss: 0.7913\n",
      "Epoch [10/10],step [10000/12500],loss: 0.7101\n",
      "Epoch [10/10],step [12000/12500],loss: 0.8350\n",
      "Finished Traing\n"
     ]
    }
   ],
   "source": [
    "n_total_steps = len(train_loader)\n",
    "for epoch in range(num_epochs):\n",
    "    for i, (images,labels) in enumerate(train_loader):\n",
    "        images = images.to(device)\n",
    "        labels = labels.to(device)\n",
    "        #forward\n",
    "        outputs = model(images)\n",
    "        loss = criterion(outputs,labels)\n",
    "        #backword\n",
    "        optimizer.zero_grad()\n",
    "        loss.backward()\n",
    "        optimizer.step()\n",
    "        if (i+1) % 2000 == 0:\n",
    "            print(f'Epoch [{epoch+1}/{num_epochs}],step [{i+1}/{n_total_steps}],loss: {loss.item():.4f}')\n",
    "print(\"Finished Traing\")"
   ]
  },
  {
   "cell_type": "code",
   "execution_count": 19,
   "id": "c03eb71e",
   "metadata": {},
   "outputs": [
    {
     "name": "stdout",
     "output_type": "stream",
     "text": [
      "accuracy: 58.85%\n",
      "accuracy of plane:61.4%\n",
      "accuracy of car:72.0%\n",
      "accuracy of bird:41.2%\n",
      "accuracy of cat:42.1%\n",
      "accuracy of deer:37.4%\n",
      "accuracy of dog:55.0%\n",
      "accuracy of frog:68.0%\n",
      "accuracy of horse:66.2%\n",
      "accuracy of ship:79.6%\n",
      "accuracy of truck:65.6%\n"
     ]
    }
   ],
   "source": [
    "with torch.no_grad():\n",
    "    n_correct = 0\n",
    "    n_samples = 0\n",
    "    n_class_correct = [0 for i in range(10)]\n",
    "    n_class_samples = [0 for i in range(10)]\n",
    "    for images,labels in test_loader:\n",
    "        images = images.to(device)\n",
    "        labels = labels.to(device)\n",
    "        outputs = model(images)\n",
    "        _,predicted = torch.max(outputs,1)\n",
    "        n_samples += labels.size(0)\n",
    "        n_correct += (predicted==labels).sum().item()\n",
    "        for i in range(batch_size):\n",
    "            label = labels[i]\n",
    "            pred = predicted[i]\n",
    "            if (label==pred):\n",
    "                n_class_correct[label] +=1\n",
    "            n_class_samples[label]+=1\n",
    "    acc = 100.0 * n_correct/n_samples\n",
    "    print(f'accuracy: {acc}%')\n",
    "    for i in range(10):\n",
    "        acc =100.0 *n_class_correct[i]/n_class_samples[i]\n",
    "        print(f'accuracy of {classes[i]}:{acc}%')"
   ]
  },
  {
   "cell_type": "code",
   "execution_count": 20,
   "id": "eb113d4b",
   "metadata": {},
   "outputs": [
    {
     "data": {
      "text/plain": [
       "4"
      ]
     },
     "execution_count": 20,
     "metadata": {},
     "output_type": "execute_result"
    }
   ],
   "source": [
    "batch_size"
   ]
  },
  {
   "cell_type": "code",
   "execution_count": null,
   "id": "ef9829d9",
   "metadata": {},
   "outputs": [],
   "source": []
  }
 ],
 "metadata": {
  "kernelspec": {
   "display_name": "Python 3",
   "language": "python",
   "name": "python3"
  },
  "language_info": {
   "codemirror_mode": {
    "name": "ipython",
    "version": 3
   },
   "file_extension": ".py",
   "mimetype": "text/x-python",
   "name": "python",
   "nbconvert_exporter": "python",
   "pygments_lexer": "ipython3",
   "version": "3.6.13"
  }
 },
 "nbformat": 4,
 "nbformat_minor": 5
}
