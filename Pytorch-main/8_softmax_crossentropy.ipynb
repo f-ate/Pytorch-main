{
 "cells": [
  {
   "cell_type": "code",
   "execution_count": 1,
   "id": "d300b36f",
   "metadata": {},
   "outputs": [],
   "source": [
    "import torch\n",
    "import torch.nn as nn\n",
    "import numpy as np\n"
   ]
  },
  {
   "cell_type": "code",
   "execution_count": 2,
   "id": "411fb568",
   "metadata": {},
   "outputs": [],
   "source": [
    "def softmax(x):\n",
    "    return np.exp(x)/np.sum(np.exp(x),axis=0)"
   ]
  },
  {
   "cell_type": "code",
   "execution_count": 3,
   "id": "5fbf4687",
   "metadata": {},
   "outputs": [],
   "source": [
    "x=  np.array([2.0,1.0,0.1])"
   ]
  },
  {
   "cell_type": "code",
   "execution_count": 4,
   "id": "4ab1d221",
   "metadata": {},
   "outputs": [],
   "source": [
    "outputs = softmax(x)"
   ]
  },
  {
   "cell_type": "code",
   "execution_count": 5,
   "id": "f74a639f",
   "metadata": {},
   "outputs": [
    {
     "name": "stdout",
     "output_type": "stream",
     "text": [
      "softmax numpy: [0.65900114 0.24243297 0.09856589]\n"
     ]
    }
   ],
   "source": [
    "print('softmax numpy:' ,outputs)"
   ]
  },
  {
   "cell_type": "code",
   "execution_count": 6,
   "id": "ceb74130",
   "metadata": {},
   "outputs": [],
   "source": [
    "x = torch.tensor([2.0,1.0,0.1])"
   ]
  },
  {
   "cell_type": "code",
   "execution_count": 7,
   "id": "6aee4b78",
   "metadata": {},
   "outputs": [],
   "source": [
    "outputs = torch.softmax(x,dim=0)"
   ]
  },
  {
   "cell_type": "code",
   "execution_count": 8,
   "id": "54032a46",
   "metadata": {},
   "outputs": [
    {
     "name": "stdout",
     "output_type": "stream",
     "text": [
      "tensor([0.6590, 0.2424, 0.0986])\n"
     ]
    }
   ],
   "source": [
    "print(outputs)"
   ]
  },
  {
   "cell_type": "code",
   "execution_count": 9,
   "id": "9cdde5e4",
   "metadata": {},
   "outputs": [],
   "source": [
    "# Cross Entropy"
   ]
  },
  {
   "cell_type": "code",
   "execution_count": 12,
   "id": "254af469",
   "metadata": {},
   "outputs": [],
   "source": [
    "#y = [1,0,0]\n",
    "#y_hat = [0.7,0.2,0.1]\n",
    "#y = [1,0,0]\n",
    "#y_hat = [0.1,0.3,0.6]"
   ]
  },
  {
   "cell_type": "code",
   "execution_count": 13,
   "id": "484551d5",
   "metadata": {},
   "outputs": [],
   "source": [
    "import torch\n",
    "import torch.nn as nn\n",
    "import numpy as np"
   ]
  },
  {
   "cell_type": "code",
   "execution_count": 14,
   "id": "33e298f9",
   "metadata": {},
   "outputs": [],
   "source": [
    "def cross_entropy(actual,predicted):\n",
    "    loss = -np.sum(actual*np.log(predicted))\n",
    "    return loss"
   ]
  },
  {
   "cell_type": "code",
   "execution_count": 16,
   "id": "6f4e3e40",
   "metadata": {},
   "outputs": [],
   "source": [
    "y = np.array([1,0,0])"
   ]
  },
  {
   "cell_type": "code",
   "execution_count": 17,
   "id": "3db9f5ae",
   "metadata": {},
   "outputs": [],
   "source": [
    "y_pred_good = np.array([0.7,0.2,0.1])\n",
    "y_pred_bad = np.array([0.1,0.3,0.6])"
   ]
  },
  {
   "cell_type": "code",
   "execution_count": 18,
   "id": "3098bcbf",
   "metadata": {},
   "outputs": [],
   "source": [
    "l1 = cross_entropy(y,y_pred_good)"
   ]
  },
  {
   "cell_type": "code",
   "execution_count": 19,
   "id": "325e3574",
   "metadata": {},
   "outputs": [
    {
     "data": {
      "text/plain": [
       "0.35667494393873245"
      ]
     },
     "execution_count": 19,
     "metadata": {},
     "output_type": "execute_result"
    }
   ],
   "source": [
    "l1"
   ]
  },
  {
   "cell_type": "code",
   "execution_count": 20,
   "id": "44ab4203",
   "metadata": {},
   "outputs": [],
   "source": [
    "l2 = cross_entropy(y,y_pred_bad)"
   ]
  },
  {
   "cell_type": "code",
   "execution_count": 21,
   "id": "0df9a5f5",
   "metadata": {},
   "outputs": [
    {
     "data": {
      "text/plain": [
       "2.3025850929940455"
      ]
     },
     "execution_count": 21,
     "metadata": {},
     "output_type": "execute_result"
    }
   ],
   "source": [
    "l2"
   ]
  },
  {
   "cell_type": "code",
   "execution_count": 23,
   "id": "2f101991",
   "metadata": {},
   "outputs": [],
   "source": [
    "# Pytorch"
   ]
  },
  {
   "cell_type": "code",
   "execution_count": 24,
   "id": "43b26eea",
   "metadata": {},
   "outputs": [],
   "source": [
    "loss = nn.CrossEntropyLoss()"
   ]
  },
  {
   "cell_type": "code",
   "execution_count": 25,
   "id": "e29d3c29",
   "metadata": {},
   "outputs": [],
   "source": [
    "y = torch.tensor([0])"
   ]
  },
  {
   "cell_type": "code",
   "execution_count": 26,
   "id": "8ad8bfcd",
   "metadata": {},
   "outputs": [
    {
     "data": {
      "text/plain": [
       "tensor([0])"
      ]
     },
     "execution_count": 26,
     "metadata": {},
     "output_type": "execute_result"
    }
   ],
   "source": [
    "y"
   ]
  },
  {
   "cell_type": "code",
   "execution_count": 27,
   "id": "47fac932",
   "metadata": {},
   "outputs": [],
   "source": [
    "y_pred_good = torch.tensor([[2.0,1.0,0.1]])\n",
    "y_pred_bad = torch.tensor([[0.5,2.0,0.3]])"
   ]
  },
  {
   "cell_type": "code",
   "execution_count": 28,
   "id": "3c92322c",
   "metadata": {},
   "outputs": [],
   "source": [
    "l1 = loss(y_pred_good,y)"
   ]
  },
  {
   "cell_type": "code",
   "execution_count": 29,
   "id": "22808710",
   "metadata": {},
   "outputs": [
    {
     "data": {
      "text/plain": [
       "tensor(0.4170)"
      ]
     },
     "execution_count": 29,
     "metadata": {},
     "output_type": "execute_result"
    }
   ],
   "source": [
    "l1"
   ]
  },
  {
   "cell_type": "code",
   "execution_count": 30,
   "id": "4342d3cf",
   "metadata": {},
   "outputs": [],
   "source": [
    "l2 = loss(y_pred_bad,y)"
   ]
  },
  {
   "cell_type": "code",
   "execution_count": 31,
   "id": "c40e6cae",
   "metadata": {},
   "outputs": [
    {
     "data": {
      "text/plain": [
       "tensor(1.8406)"
      ]
     },
     "execution_count": 31,
     "metadata": {},
     "output_type": "execute_result"
    }
   ],
   "source": [
    "l2"
   ]
  },
  {
   "cell_type": "code",
   "execution_count": 32,
   "id": "c4404bdb",
   "metadata": {},
   "outputs": [
    {
     "name": "stdout",
     "output_type": "stream",
     "text": [
      "0.4170299470424652\n"
     ]
    }
   ],
   "source": [
    "print(l1.item())"
   ]
  },
  {
   "cell_type": "code",
   "execution_count": 33,
   "id": "77257c91",
   "metadata": {},
   "outputs": [
    {
     "name": "stdout",
     "output_type": "stream",
     "text": [
      "1.840616226196289\n"
     ]
    }
   ],
   "source": [
    "print(l2.item())"
   ]
  },
  {
   "cell_type": "code",
   "execution_count": 34,
   "id": "457fea92",
   "metadata": {},
   "outputs": [],
   "source": [
    "_,prediction1 = torch.max(y_pred_good,1)"
   ]
  },
  {
   "cell_type": "code",
   "execution_count": 35,
   "id": "a72ec94a",
   "metadata": {},
   "outputs": [],
   "source": [
    "_,prediction2 = torch.max(y_pred_bad,1)"
   ]
  },
  {
   "cell_type": "code",
   "execution_count": 36,
   "id": "5b3b4ee7",
   "metadata": {},
   "outputs": [
    {
     "data": {
      "text/plain": [
       "tensor([0])"
      ]
     },
     "execution_count": 36,
     "metadata": {},
     "output_type": "execute_result"
    }
   ],
   "source": [
    "prediction1"
   ]
  },
  {
   "cell_type": "code",
   "execution_count": 37,
   "id": "743db790",
   "metadata": {},
   "outputs": [
    {
     "data": {
      "text/plain": [
       "tensor([1])"
      ]
     },
     "execution_count": 37,
     "metadata": {},
     "output_type": "execute_result"
    }
   ],
   "source": [
    "prediction2"
   ]
  },
  {
   "cell_type": "code",
   "execution_count": 1,
   "id": "156f6668",
   "metadata": {},
   "outputs": [],
   "source": [
    "############################################"
   ]
  },
  {
   "cell_type": "code",
   "execution_count": 2,
   "id": "51f138b1",
   "metadata": {},
   "outputs": [],
   "source": [
    "import torch \n",
    "import torch.nn as nn\n",
    "import numpy as np"
   ]
  },
  {
   "cell_type": "code",
   "execution_count": 3,
   "id": "23f716be",
   "metadata": {},
   "outputs": [],
   "source": [
    "def softmax(x):\n",
    "    return np.exp(x)/np.sum(np.sum(np.exp(x),axis=0))"
   ]
  },
  {
   "cell_type": "code",
   "execution_count": 4,
   "id": "1683d520",
   "metadata": {},
   "outputs": [
    {
     "name": "stdout",
     "output_type": "stream",
     "text": [
      "[0.65900114 0.24243297 0.09856589]\n"
     ]
    }
   ],
   "source": [
    "x = np.array([2.0,1.0,0.1])\n",
    "outputs = softmax(x)\n",
    "print(outputs)"
   ]
  },
  {
   "cell_type": "code",
   "execution_count": 6,
   "id": "92ba5800",
   "metadata": {},
   "outputs": [
    {
     "name": "stdout",
     "output_type": "stream",
     "text": [
      "tensor([0.6590, 0.2424, 0.0986])\n"
     ]
    }
   ],
   "source": [
    "x = torch.tensor([2.0,1.0,0.1])\n",
    "outputs = torch.softmax(x,dim=0)\n",
    "print(outputs)"
   ]
  },
  {
   "cell_type": "code",
   "execution_count": 7,
   "id": "29bb7527",
   "metadata": {},
   "outputs": [],
   "source": [
    "# crossentropy"
   ]
  },
  {
   "cell_type": "code",
   "execution_count": 8,
   "id": "37435d87",
   "metadata": {},
   "outputs": [],
   "source": [
    "def crossentropy(actual,predicted):\n",
    "    EPS = 1e-15\n",
    "    predicted = np.clip(predicted,EPS,1-EPS)\n",
    "    loss = -np.sum(actual*np.log(predicted))\n",
    "    return loss"
   ]
  },
  {
   "cell_type": "code",
   "execution_count": 9,
   "id": "beed23ea",
   "metadata": {},
   "outputs": [],
   "source": [
    "y = np.array([1,0,0])"
   ]
  },
  {
   "cell_type": "code",
   "execution_count": 10,
   "id": "651f56dc",
   "metadata": {},
   "outputs": [],
   "source": [
    "y_pred_good = np.array([0.7,0.2,0.1])\n",
    "y_pred_bad = np.array([0.1,0.3,0.6])"
   ]
  },
  {
   "cell_type": "code",
   "execution_count": 11,
   "id": "836bc632",
   "metadata": {},
   "outputs": [
    {
     "name": "stdout",
     "output_type": "stream",
     "text": [
      "0.35667494393873245\n",
      "2.3025850929940455\n"
     ]
    }
   ],
   "source": [
    "l1 = crossentropy(y,y_pred_good)\n",
    "l2 = crossentropy(y,y_pred_bad)\n",
    "print(l1)\n",
    "print(l2)"
   ]
  },
  {
   "cell_type": "code",
   "execution_count": 12,
   "id": "a50b4796",
   "metadata": {},
   "outputs": [],
   "source": [
    "#################### Pytorch ####################"
   ]
  },
  {
   "cell_type": "code",
   "execution_count": 13,
   "id": "35749199",
   "metadata": {},
   "outputs": [],
   "source": [
    "loss = nn.CrossEntropyLoss()"
   ]
  },
  {
   "cell_type": "code",
   "execution_count": 14,
   "id": "ea0ba7f9",
   "metadata": {},
   "outputs": [],
   "source": [
    "y = torch.tensor([0])"
   ]
  },
  {
   "cell_type": "code",
   "execution_count": 15,
   "id": "b087f381",
   "metadata": {},
   "outputs": [],
   "source": [
    "y_pred_good = torch.tensor([[2.0,1.0,0.1]])\n",
    "y_pred_bad = torch.tensor([[0.5,2.0,0.3]])"
   ]
  },
  {
   "cell_type": "code",
   "execution_count": 16,
   "id": "bc608330",
   "metadata": {},
   "outputs": [],
   "source": [
    "l1 = loss(y_pred_good,y)"
   ]
  },
  {
   "cell_type": "code",
   "execution_count": 17,
   "id": "87aedd46",
   "metadata": {},
   "outputs": [],
   "source": [
    "l2 = loss(y_pred_bad,y)"
   ]
  },
  {
   "cell_type": "code",
   "execution_count": 18,
   "id": "0b45edd5",
   "metadata": {},
   "outputs": [
    {
     "name": "stdout",
     "output_type": "stream",
     "text": [
      "tensor(0.4170)\n",
      "tensor(1.8406)\n"
     ]
    }
   ],
   "source": [
    "print(l1)\n",
    "print(l2)"
   ]
  },
  {
   "cell_type": "code",
   "execution_count": 19,
   "id": "6bf1b3c2",
   "metadata": {},
   "outputs": [],
   "source": [
    "# get predictions"
   ]
  },
  {
   "cell_type": "code",
   "execution_count": 20,
   "id": "d11b0986",
   "metadata": {},
   "outputs": [],
   "source": [
    "x,predictions1 = torch.max(y_pred_good,1)"
   ]
  },
  {
   "cell_type": "code",
   "execution_count": 21,
   "id": "0a1d0293",
   "metadata": {},
   "outputs": [
    {
     "data": {
      "text/plain": [
       "tensor([2.])"
      ]
     },
     "execution_count": 21,
     "metadata": {},
     "output_type": "execute_result"
    }
   ],
   "source": [
    "x"
   ]
  },
  {
   "cell_type": "code",
   "execution_count": 22,
   "id": "0b9cce8c",
   "metadata": {},
   "outputs": [
    {
     "data": {
      "text/plain": [
       "tensor([0])"
      ]
     },
     "execution_count": 22,
     "metadata": {},
     "output_type": "execute_result"
    }
   ],
   "source": [
    "predictions1"
   ]
  },
  {
   "cell_type": "code",
   "execution_count": 23,
   "id": "d8420100",
   "metadata": {},
   "outputs": [],
   "source": [
    "# Batch size = 3"
   ]
  },
  {
   "cell_type": "code",
   "execution_count": 24,
   "id": "83aef39d",
   "metadata": {},
   "outputs": [],
   "source": [
    "y = torch.tensor([2,0,1])"
   ]
  },
  {
   "cell_type": "code",
   "execution_count": 25,
   "id": "7e68ada7",
   "metadata": {},
   "outputs": [],
   "source": [
    "y_pred_good = torch.tensor(\n",
    "[[0.1,0.2,3.9],\n",
    "[1.2,0.1,0.3],\n",
    "[0.3,2.2,0.2]])"
   ]
  },
  {
   "cell_type": "code",
   "execution_count": 26,
   "id": "66dd2760",
   "metadata": {},
   "outputs": [],
   "source": [
    "y_pred_bad = torch.tensor(\n",
    "[[0.9,0.2,0.1],\n",
    "[0.1,0.3,1.5],\n",
    "[1.2,0.2,0.5]])"
   ]
  },
  {
   "cell_type": "code",
   "execution_count": 27,
   "id": "0a68b3a8",
   "metadata": {},
   "outputs": [],
   "source": [
    "l1 = loss(y_pred_good,y)"
   ]
  },
  {
   "cell_type": "code",
   "execution_count": 28,
   "id": "acfc9a4a",
   "metadata": {},
   "outputs": [],
   "source": [
    "l2 = loss(y_pred_bad,y)"
   ]
  },
  {
   "cell_type": "code",
   "execution_count": 29,
   "id": "16e79747",
   "metadata": {},
   "outputs": [
    {
     "name": "stdout",
     "output_type": "stream",
     "text": [
      "tensor(0.2834)\n",
      "tensor(1.6418)\n"
     ]
    }
   ],
   "source": [
    "print(l1)\n",
    "print(l2)"
   ]
  },
  {
   "cell_type": "code",
   "execution_count": 30,
   "id": "c22fcb5f",
   "metadata": {},
   "outputs": [
    {
     "name": "stdout",
     "output_type": "stream",
     "text": [
      "Actual class:tensor([2, 0, 1]),y_pred1:tensor([2, 0, 1]),y_pred2:tensor([0, 2, 0])\n"
     ]
    }
   ],
   "source": [
    "_,predictions1 = torch.max(y_pred_good,1)\n",
    "_,predictions2 = torch.max(y_pred_bad,1)\n",
    "print(f'Actual class:{y},y_pred1:{predictions1},y_pred2:{predictions2}')"
   ]
  },
  {
   "cell_type": "code",
   "execution_count": null,
   "id": "2464736f",
   "metadata": {},
   "outputs": [],
   "source": []
  }
 ],
 "metadata": {
  "kernelspec": {
   "display_name": "Python 3",
   "language": "python",
   "name": "python3"
  },
  "language_info": {
   "codemirror_mode": {
    "name": "ipython",
    "version": 3
   },
   "file_extension": ".py",
   "mimetype": "text/x-python",
   "name": "python",
   "nbconvert_exporter": "python",
   "pygments_lexer": "ipython3",
   "version": "3.6.13"
  }
 },
 "nbformat": 4,
 "nbformat_minor": 5
}
